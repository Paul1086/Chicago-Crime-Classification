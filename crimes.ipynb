{
 "cells": [
  {
   "cell_type": "markdown",
   "metadata": {},
   "source": []
  },
  {
   "cell_type": "markdown",
   "metadata": {},
   "source": [
    "# Project Title: Chicago Crime Classification 2019 \n",
    "In this project, machine learning (ML) concepts were implemented for determining the severity of the crime and also for the classification of the crimes. The ML algorithms that were implemented are:\n",
    "<ol>\n",
    "<li>K-Nearest Neighbor (KNN)</li>\n",
    "<li>Logistic Regression</li>\n",
    "<li>Support Vector Machine</li>\n",
    "<li>KMeans clustering</li>    \n",
    "</ol> Among these 4 algorithms, K-Nearest Neighbor, Logistic Regression and Support Vector Machine are supervised learning and KMeans clustering is unsupervised learning. The reason and the significance for using each of these algorithms are described in the appropriate sections of this notebook.\n",
    "\n",
    "The dataset that we are working with is mainly an imbalanced dataset. So, like any rare case prediction, implementing ML algorithms to classify crimes is difficult. \n",
    "\n",
    "Throught this notebook, each section is described before the implementation of the codes.\n",
    "         "
   ]
  },
  {
   "cell_type": "markdown",
   "metadata": {},
   "source": [
    "### Importing Python Libraries\n",
    "\n",
    "For data analysis and data visualization, we are using pandas, numpy, seaborn and matplotlib library for this project"
   ]
  },
  {
   "cell_type": "code",
   "execution_count": 2,
   "metadata": {},
   "outputs": [],
   "source": [
    "import pandas as pd\n",
    "import numpy as np\n",
    "#import seaborn as sns\n",
    "import matplotlib.pyplot as plt\n",
    "import os"
   ]
  },
  {
   "cell_type": "markdown",
   "metadata": {},
   "source": [
    "### Importing Dataset \n",
    "\n",
    "In this section the crime dataset is being imported using the \"read_csv\" command of pandas dataframe. The dataset is in comma separated value (csv) form having 227080 rows and 22 columns.  "
   ]
  },
  {
   "cell_type": "code",
   "execution_count": 3,
   "metadata": {},
   "outputs": [
    {
     "name": "stdout",
     "output_type": "stream",
     "text": [
      "(227080, 22)\n"
     ]
    },
    {
     "data": {
      "text/html": [
       "<div>\n",
       "<style scoped>\n",
       "    .dataframe tbody tr th:only-of-type {\n",
       "        vertical-align: middle;\n",
       "    }\n",
       "\n",
       "    .dataframe tbody tr th {\n",
       "        vertical-align: top;\n",
       "    }\n",
       "\n",
       "    .dataframe thead th {\n",
       "        text-align: right;\n",
       "    }\n",
       "</style>\n",
       "<table border=\"1\" class=\"dataframe\">\n",
       "  <thead>\n",
       "    <tr style=\"text-align: right;\">\n",
       "      <th></th>\n",
       "      <th>ID</th>\n",
       "      <th>Case Number</th>\n",
       "      <th>Date</th>\n",
       "      <th>Block</th>\n",
       "      <th>IUCR</th>\n",
       "      <th>Primary Type</th>\n",
       "      <th>Description</th>\n",
       "      <th>Location Description</th>\n",
       "      <th>Arrest</th>\n",
       "      <th>Domestic</th>\n",
       "      <th>...</th>\n",
       "      <th>Ward</th>\n",
       "      <th>Community Area</th>\n",
       "      <th>FBI Code</th>\n",
       "      <th>X Coordinate</th>\n",
       "      <th>Y Coordinate</th>\n",
       "      <th>Year</th>\n",
       "      <th>Updated On</th>\n",
       "      <th>Latitude</th>\n",
       "      <th>Longitude</th>\n",
       "      <th>Location</th>\n",
       "    </tr>\n",
       "  </thead>\n",
       "  <tbody>\n",
       "    <tr>\n",
       "      <td>0</td>\n",
       "      <td>11893090</td>\n",
       "      <td>JC512409</td>\n",
       "      <td>11/16/2019 4:30</td>\n",
       "      <td>008XX N MICHIGAN AVE</td>\n",
       "      <td>910</td>\n",
       "      <td>MOTOR VEHICLE THEFT</td>\n",
       "      <td>AUTOMOBILE</td>\n",
       "      <td>STREET</td>\n",
       "      <td>False</td>\n",
       "      <td>False</td>\n",
       "      <td>...</td>\n",
       "      <td>42.0</td>\n",
       "      <td>8.0</td>\n",
       "      <td>7</td>\n",
       "      <td>1177311.0</td>\n",
       "      <td>1905834.0</td>\n",
       "      <td>2019</td>\n",
       "      <td>11/23/2019 15:51</td>\n",
       "      <td>41.896944</td>\n",
       "      <td>-87.624206</td>\n",
       "      <td>(41.896943556, -87.624206307)</td>\n",
       "    </tr>\n",
       "    <tr>\n",
       "      <td>1</td>\n",
       "      <td>11893417</td>\n",
       "      <td>JC512836</td>\n",
       "      <td>11/16/2019 13:15</td>\n",
       "      <td>092XX S PEORIA ST</td>\n",
       "      <td>486</td>\n",
       "      <td>BATTERY</td>\n",
       "      <td>DOMESTIC BATTERY SIMPLE</td>\n",
       "      <td>RESIDENCE</td>\n",
       "      <td>False</td>\n",
       "      <td>True</td>\n",
       "      <td>...</td>\n",
       "      <td>21.0</td>\n",
       "      <td>73.0</td>\n",
       "      <td>08B</td>\n",
       "      <td>1171937.0</td>\n",
       "      <td>1843586.0</td>\n",
       "      <td>2019</td>\n",
       "      <td>11/23/2019 15:51</td>\n",
       "      <td>41.726249</td>\n",
       "      <td>-87.645773</td>\n",
       "      <td>(41.726249002, -87.645773171)</td>\n",
       "    </tr>\n",
       "    <tr>\n",
       "      <td>2</td>\n",
       "      <td>11893710</td>\n",
       "      <td>JC513242</td>\n",
       "      <td>11/16/2019 18:45</td>\n",
       "      <td>001XX N CENTRAL AVE</td>\n",
       "      <td>820</td>\n",
       "      <td>THEFT</td>\n",
       "      <td>$500 AND UNDER</td>\n",
       "      <td>SIDEWALK</td>\n",
       "      <td>False</td>\n",
       "      <td>False</td>\n",
       "      <td>...</td>\n",
       "      <td>29.0</td>\n",
       "      <td>25.0</td>\n",
       "      <td>6</td>\n",
       "      <td>1139022.0</td>\n",
       "      <td>1900588.0</td>\n",
       "      <td>2019</td>\n",
       "      <td>11/23/2019 15:51</td>\n",
       "      <td>41.883330</td>\n",
       "      <td>-87.764965</td>\n",
       "      <td>(41.883330195, -87.764964695)</td>\n",
       "    </tr>\n",
       "    <tr>\n",
       "      <td>3</td>\n",
       "      <td>11893969</td>\n",
       "      <td>JC513665</td>\n",
       "      <td>11/16/2019 0:00</td>\n",
       "      <td>019XX E 74TH ST</td>\n",
       "      <td>5001</td>\n",
       "      <td>OTHER OFFENSE</td>\n",
       "      <td>OTHER CRIME INVOLVING PROPERTY</td>\n",
       "      <td>STREET</td>\n",
       "      <td>False</td>\n",
       "      <td>False</td>\n",
       "      <td>...</td>\n",
       "      <td>8.0</td>\n",
       "      <td>43.0</td>\n",
       "      <td>26</td>\n",
       "      <td>1190206.0</td>\n",
       "      <td>1856283.0</td>\n",
       "      <td>2019</td>\n",
       "      <td>11/23/2019 15:51</td>\n",
       "      <td>41.760671</td>\n",
       "      <td>-87.578445</td>\n",
       "      <td>(41.760670836, -87.578445062)</td>\n",
       "    </tr>\n",
       "    <tr>\n",
       "      <td>4</td>\n",
       "      <td>11894240</td>\n",
       "      <td>JC514029</td>\n",
       "      <td>11/16/2019 16:30</td>\n",
       "      <td>029XX N BROADWAY</td>\n",
       "      <td>890</td>\n",
       "      <td>THEFT</td>\n",
       "      <td>FROM BUILDING</td>\n",
       "      <td>DEPARTMENT STORE</td>\n",
       "      <td>False</td>\n",
       "      <td>False</td>\n",
       "      <td>...</td>\n",
       "      <td>44.0</td>\n",
       "      <td>6.0</td>\n",
       "      <td>6</td>\n",
       "      <td>1171737.0</td>\n",
       "      <td>1919996.0</td>\n",
       "      <td>2019</td>\n",
       "      <td>11/23/2019 15:51</td>\n",
       "      <td>41.935929</td>\n",
       "      <td>-87.644261</td>\n",
       "      <td>(41.935929385, -87.644260642)</td>\n",
       "    </tr>\n",
       "  </tbody>\n",
       "</table>\n",
       "<p>5 rows × 22 columns</p>\n",
       "</div>"
      ],
      "text/plain": [
       "         ID Case Number              Date                 Block  IUCR  \\\n",
       "0  11893090    JC512409   11/16/2019 4:30  008XX N MICHIGAN AVE   910   \n",
       "1  11893417    JC512836  11/16/2019 13:15     092XX S PEORIA ST   486   \n",
       "2  11893710    JC513242  11/16/2019 18:45   001XX N CENTRAL AVE   820   \n",
       "3  11893969    JC513665   11/16/2019 0:00       019XX E 74TH ST  5001   \n",
       "4  11894240    JC514029  11/16/2019 16:30      029XX N BROADWAY   890   \n",
       "\n",
       "          Primary Type                     Description Location Description  \\\n",
       "0  MOTOR VEHICLE THEFT                      AUTOMOBILE               STREET   \n",
       "1              BATTERY         DOMESTIC BATTERY SIMPLE            RESIDENCE   \n",
       "2                THEFT                  $500 AND UNDER             SIDEWALK   \n",
       "3        OTHER OFFENSE  OTHER CRIME INVOLVING PROPERTY               STREET   \n",
       "4                THEFT                   FROM BUILDING     DEPARTMENT STORE   \n",
       "\n",
       "   Arrest  Domestic  ...  Ward  Community Area  FBI Code  X Coordinate  \\\n",
       "0   False     False  ...  42.0             8.0         7     1177311.0   \n",
       "1   False      True  ...  21.0            73.0       08B     1171937.0   \n",
       "2   False     False  ...  29.0            25.0         6     1139022.0   \n",
       "3   False     False  ...   8.0            43.0        26     1190206.0   \n",
       "4   False     False  ...  44.0             6.0         6     1171737.0   \n",
       "\n",
       "  Y Coordinate  Year        Updated On   Latitude  Longitude  \\\n",
       "0    1905834.0  2019  11/23/2019 15:51  41.896944 -87.624206   \n",
       "1    1843586.0  2019  11/23/2019 15:51  41.726249 -87.645773   \n",
       "2    1900588.0  2019  11/23/2019 15:51  41.883330 -87.764965   \n",
       "3    1856283.0  2019  11/23/2019 15:51  41.760671 -87.578445   \n",
       "4    1919996.0  2019  11/23/2019 15:51  41.935929 -87.644261   \n",
       "\n",
       "                        Location  \n",
       "0  (41.896943556, -87.624206307)  \n",
       "1  (41.726249002, -87.645773171)  \n",
       "2  (41.883330195, -87.764964695)  \n",
       "3  (41.760670836, -87.578445062)  \n",
       "4  (41.935929385, -87.644260642)  \n",
       "\n",
       "[5 rows x 22 columns]"
      ]
     },
     "execution_count": 3,
     "metadata": {},
     "output_type": "execute_result"
    }
   ],
   "source": [
    "df = pd.read_csv('crimes.csv')\n",
    "print(df.shape)\n",
    "df.head()"
   ]
  },
  {
   "cell_type": "markdown",
   "metadata": {},
   "source": [
    "### Checking columns and number of NaN values\n",
    "\n",
    "\n",
    "Before implementing ML algorithm, we need to make sue our dataset is free from NaN values. In this section, we are just checking the total number of NaN values in different columns."
   ]
  },
  {
   "cell_type": "code",
   "execution_count": 4,
   "metadata": {},
   "outputs": [
    {
     "name": "stdout",
     "output_type": "stream",
     "text": [
      "ID                         0\n",
      "Case Number                0\n",
      "Date                       0\n",
      "Block                      0\n",
      "IUCR                       0\n",
      "Primary Type               0\n",
      "Description                0\n",
      "Location Description     842\n",
      "Arrest                     0\n",
      "Domestic                   0\n",
      "Beat                       0\n",
      "District                   0\n",
      "Ward                      11\n",
      "Community Area             3\n",
      "FBI Code                   0\n",
      "X Coordinate            1129\n",
      "Y Coordinate            1129\n",
      "Year                       0\n",
      "Updated On                 0\n",
      "Latitude                1129\n",
      "Longitude               1129\n",
      "Location                1129\n",
      "dtype: int64\n"
     ]
    }
   ],
   "source": [
    "df.columns\n",
    "df_null_counting =df\n",
    "print(df_null_counting.isnull().sum())"
   ]
  },
  {
   "cell_type": "markdown",
   "metadata": {},
   "source": [
    "### Counting the number of different crimes\n",
    "\n",
    "\n",
    "One of the noticing thing in this project is the extensive use of pandas library. In this part of the project we are visualizing the crime rates for all the crimes listed inside the \"Primary Type\" column. "
   ]
  },
  {
   "cell_type": "code",
   "execution_count": 5,
   "metadata": {},
   "outputs": [
    {
     "data": {
      "image/png": "[encoded data removed]",
      "text/plain": [
       "<Figure size 1440x720 with 1 Axes>"
      ]
     },
     "metadata": {
      "needs_background": "light"
     },
     "output_type": "display_data"
    }
   ],
   "source": [
    "df_crime_type = df.groupby('Primary Type')['Primary Type'].count()/len(df)*100\n",
    "df_crime_type.sort_values(ascending=False, inplace = True)\n",
    "plt.rcParams[\"figure.figsize\"] = (20,10)\n",
    "df_crime_type.plot(kind = 'bar', title = 'Type of Crimes')\n",
    "plt.ylabel('Occurance Rate (%)')\n",
    "plt.xlabel('Primary types')\n",
    "plt.show()"
   ]
  },
  {
   "cell_type": "markdown",
   "metadata": {},
   "source": [
    "### Crime locations and their percentate values\n",
    "\n",
    "\n",
    "Similar to the previous section, crime occurance rate at different place has been plotted. But, one extra thing that has been added here is that, if crime location place where the occurance rate is less than 1%, it has been deducted from the bar chart."
   ]
  },
  {
   "cell_type": "code",
   "execution_count": 6,
   "metadata": {},
   "outputs": [
    {
     "data": {
      "image/png": "[encoded data removed]",
      "text/plain": [
       "<Figure size 1800x720 with 1 Axes>"
      ]
     },
     "metadata": {
      "needs_background": "light"
     },
     "output_type": "display_data"
    }
   ],
   "source": [
    "df_crime_location = df.groupby('Location Description')['Location Description'].count()/len(df)*100\n",
    "df_crime_location2 = df_crime_location>1\n",
    "df_crime_location3 = df_crime_location[df_crime_location2]\n",
    "df_crime_location3.sort_values(ascending=False, inplace=True)\n",
    "plt.rcParams[\"figure.figsize\"] = (25,10)\n",
    "df_crime_location3.plot(kind = 'bar', title = 'Location of Crimes')\n",
    "plt.xlabel('Locations', fontsize=18)\n",
    "plt.ylabel('Occurance Rate (%)', fontsize=18)\n",
    "plt.show()"
   ]
  },
  {
   "cell_type": "code",
   "execution_count": 7,
   "metadata": {},
   "outputs": [
    {
     "data": {
      "text/plain": [
       "Index(['ID', 'Case Number', 'Date', 'Block', 'IUCR', 'Primary Type',\n",
       "       'Description', 'Location Description', 'Arrest', 'Domestic', 'Beat',\n",
       "       'District', 'Ward', 'Community Area', 'FBI Code', 'X Coordinate',\n",
       "       'Y Coordinate', 'Year', 'Updated On', 'Latitude', 'Longitude',\n",
       "       'Location'],\n",
       "      dtype='object')"
      ]
     },
     "execution_count": 7,
     "metadata": {},
     "output_type": "execute_result"
    }
   ],
   "source": [
    "df.columns"
   ]
  },
  {
   "cell_type": "markdown",
   "metadata": {},
   "source": [
    "### Crime rate at different community area\n",
    "\n",
    "The following bar chart is the crime occurance rate at different community area. Again, occurance rate below 0.5% has been drooped from the chart."
   ]
  },
  {
   "cell_type": "code",
   "execution_count": 8,
   "metadata": {},
   "outputs": [
    {
     "data": {
      "image/png": "[encoded data removed]",
      "text/plain": [
       "<Figure size 1440x720 with 1 Axes>"
      ]
     },
     "metadata": {
      "needs_background": "light"
     },
     "output_type": "display_data"
    }
   ],
   "source": [
    "df_community_area = df.groupby('Community Area')['Community Area'].count()/len(df)*100\n",
    "df_community_area2 = df_community_area>0.5\n",
    "df_community_area3 = df_community_area[df_community_area2]\n",
    "plt.rcParams[\"figure.figsize\"]=(20,10)\n",
    "df_community_area3.sort_values(ascending=False, inplace = True)\n",
    "df_community_area3.plot(kind='bar', title = 'Community Area Based Crime')\n",
    "plt.xlabel('Community Area')\n",
    "plt.ylabel('Occurance Rate (%)')\n",
    "plt.show()"
   ]
  },
  {
   "cell_type": "markdown",
   "metadata": {},
   "source": [
    "### Crime classification at different weekdays\n",
    "\n",
    "\n",
    "Crime occurance rate at different weekdays. It can be seen that the crime occurance is almost evenly distributed at different days of the week."
   ]
  },
  {
   "cell_type": "code",
   "execution_count": 9,
   "metadata": {},
   "outputs": [
    {
     "name": "stdout",
     "output_type": "stream",
     "text": [
      "11/16/2019 13:15\n",
      "16\n",
      "<class 'str'>\n"
     ]
    }
   ],
   "source": [
    "from datetime import datetime\n",
    "format = '%m/%d/%Y %H:%M'\n",
    "z1 = df.Date.iloc[1]\n",
    "print(z1)\n",
    "z2 = datetime.strptime(z1, format).strftime(\"%d\")\n",
    "print(z2)\n",
    "print(type(z2))\n",
    "df[\"weekdays\"] = df.Date.apply(lambda x:datetime.strptime(x, format).strftime(\"%a\"))\n",
    "df[\"month\"] = df.Date.apply(lambda x:datetime.strptime(x, format).strftime(\"%m\"))\n",
    "df[\"hour\"] = df.Date.apply(lambda x:datetime.strptime(x, format).strftime(\"%H\"))\n",
    "\n",
    "df_time_weekdays = df.groupby('weekdays')['weekdays'].count()/len(df)*100\n",
    "df_time_month = df.groupby('month')['month'].count()/len(df)*100\n",
    "df_time_hour = df.groupby('hour')['hour'].count()/len(df)*100"
   ]
  },
  {
   "cell_type": "code",
   "execution_count": 10,
   "metadata": {},
   "outputs": [
    {
     "data": {
      "image/png": "[encoded data removed]",
      "text/plain": [
       "<Figure size 1440x720 with 1 Axes>"
      ]
     },
     "metadata": {
      "needs_background": "light"
     },
     "output_type": "display_data"
    }
   ],
   "source": [
    "plt.rcParams[\"figure.figsize\"] = (20,10)\n",
    "df_time_weekdays.plot(kind = 'bar', title = 'Crime at different weekdays')\n",
    "plt.xlabel('weekdays')\n",
    "plt.ylabel('Occurance rate (%)')\n",
    "plt.show()"
   ]
  },
  {
   "cell_type": "markdown",
   "metadata": {},
   "source": [
    "### Crime classification at different months\n",
    "\n",
    "\n",
    "Bar chart to represent the month based crime occurance rate. It can be seen that the month of December has the lowest crime rate."
   ]
  },
  {
   "cell_type": "code",
   "execution_count": 11,
   "metadata": {},
   "outputs": [
    {
     "data": {
      "image/png": "[encoded data removed]",
      "text/plain": [
       "<Figure size 1440x720 with 1 Axes>"
      ]
     },
     "metadata": {
      "needs_background": "light"
     },
     "output_type": "display_data"
    }
   ],
   "source": [
    "plt.rcParams['figure.figsize'] = (20,10)\n",
    "df_time_month.plot(kind = 'bar')\n",
    "plt.title('Crimes at different months')\n",
    "plt.xlabel('Months')\n",
    "plt.ylabel('Occurance rate (%)')\n",
    "plt.show()"
   ]
  },
  {
   "cell_type": "markdown",
   "metadata": {},
   "source": [
    "### Crime occurance rate at different hours\n",
    "\n",
    "Hour based crime occurance rate. The maximum crime occurs at 1.00 PM and the lowest crime rate is an 5.00 AM."
   ]
  },
  {
   "cell_type": "code",
   "execution_count": 12,
   "metadata": {},
   "outputs": [
    {
     "data": {
      "image/png": "[encoded data removed]",
      "text/plain": [
       "<Figure size 1440x720 with 1 Axes>"
      ]
     },
     "metadata": {
      "needs_background": "light"
     },
     "output_type": "display_data"
    }
   ],
   "source": [
    "plt.rcParams[\"figure.figsize\"]=(20,10)\n",
    "df_time_hour.plot(kind = 'bar')\n",
    "plt.title(\"Crimes in different hours\")\n",
    "plt.xlabel(\"Hours\", fontsize = 18)\n",
    "plt.ylabel(\"Occurance rate (%)\")\n",
    "plt.show()"
   ]
  },
  {
   "cell_type": "markdown",
   "metadata": {},
   "source": [
    "### Minimize crime classes\n",
    "\n",
    "Here, we want to analyze for a limited number of crimes. The crimes are: BURGLARY, ROBBERY, WEAPONS VIOLATION, CRIMINAL TRESPASS and MOTOR VEHICLE THEFT. We want to categorize all other crimes inside OTHERS section. We also want to add another new column as New Crime Type which contains only the new categiries.  "
   ]
  },
  {
   "cell_type": "code",
   "execution_count": 13,
   "metadata": {},
   "outputs": [],
   "source": [
    "def top(item):\n",
    "    crimetype = [\"BURGLARY\",\"ROBBERY\",\"WEAPONS VIOLATION\",\"CRIMINAL TRESPASS\",\"MOTOR VEHICLE THEFT\"]\n",
    "    if item not in crimetype:\n",
    "        return \"OTHERS\"\n",
    "    else:\n",
    "        return item\n",
    "    \n",
    "df[\"New Crime Type\"] = df[\"Primary Type\"].apply(top)"
   ]
  },
  {
   "cell_type": "markdown",
   "metadata": {},
   "source": [
    "### Minimize Crime Location Classes\n",
    "\n",
    "\n",
    "Similar to the previous section we want to minimize our crime locations. We want to categorize the crime locations into the sections- STREET, RESIDENCE, APARTMENT and SIDEWALK. Then, we will categorize all other crimes into OTHERS section. After that, we will create a new column in our dataframe named \"New Crime Location\"."
   ]
  },
  {
   "cell_type": "code",
   "execution_count": 14,
   "metadata": {},
   "outputs": [],
   "source": [
    "def location(item):\n",
    "    locations=['STREET','RESIDENCE','APARTMENT','SIDEWALK']\n",
    "    if item not in locations:\n",
    "        return \"OTHERS\"\n",
    "    else:\n",
    "        return item\n",
    "    \n",
    "df[\"New Crime Location\"]=df[\"Location Description\"].apply(location)"
   ]
  },
  {
   "cell_type": "markdown",
   "metadata": {},
   "source": [
    "### Analyze new crime classes at diffetent locations "
   ]
  },
  {
   "cell_type": "code",
   "execution_count": 15,
   "metadata": {},
   "outputs": [
    {
     "data": {
      "text/plain": [
       "<matplotlib.axes._subplots.AxesSubplot at 0x21b2b4a3108>"
      ]
     },
     "execution_count": 15,
     "metadata": {},
     "output_type": "execute_result"
    },
    {
     "data": {
      "image/png": "[encoded data removed]",
      "text/plain": [
       "<Figure size 1440x720 with 1 Axes>"
      ]
     },
     "metadata": {
      "needs_background": "light"
     },
     "output_type": "display_data"
    }
   ],
   "source": [
    "datasplit = df.groupby([\"New Crime Location\", \"New Crime Type\"])[\"New Crime Location\"].count().unstack()\n",
    "datasplit = datasplit.apply(lambda x:x/x.sum()*100)\n",
    "datasplit.plot(kind = 'bar')"
   ]
  },
  {
   "cell_type": "code",
   "execution_count": 16,
   "metadata": {},
   "outputs": [
    {
     "data": {
      "text/html": [
       "<div>\n",
       "<style scoped>\n",
       "    .dataframe tbody tr th:only-of-type {\n",
       "        vertical-align: middle;\n",
       "    }\n",
       "\n",
       "    .dataframe tbody tr th {\n",
       "        vertical-align: top;\n",
       "    }\n",
       "\n",
       "    .dataframe thead th {\n",
       "        text-align: right;\n",
       "    }\n",
       "</style>\n",
       "<table border=\"1\" class=\"dataframe\">\n",
       "  <thead>\n",
       "    <tr style=\"text-align: right;\">\n",
       "      <th>New Crime Type</th>\n",
       "      <th>BURGLARY</th>\n",
       "      <th>CRIMINAL TRESPASS</th>\n",
       "      <th>MOTOR VEHICLE THEFT</th>\n",
       "      <th>OTHERS</th>\n",
       "      <th>ROBBERY</th>\n",
       "      <th>WEAPONS VIOLATION</th>\n",
       "    </tr>\n",
       "    <tr>\n",
       "      <th>New Crime Location</th>\n",
       "      <th></th>\n",
       "      <th></th>\n",
       "      <th></th>\n",
       "      <th></th>\n",
       "      <th></th>\n",
       "      <th></th>\n",
       "    </tr>\n",
       "  </thead>\n",
       "  <tbody>\n",
       "    <tr>\n",
       "      <td>APARTMENT</td>\n",
       "      <td>33.695652</td>\n",
       "      <td>10.364146</td>\n",
       "      <td>0.825397</td>\n",
       "      <td>13.609791</td>\n",
       "      <td>2.497113</td>\n",
       "      <td>3.913824</td>\n",
       "    </tr>\n",
       "    <tr>\n",
       "      <td>OTHERS</td>\n",
       "      <td>35.164835</td>\n",
       "      <td>67.836546</td>\n",
       "      <td>24.304762</td>\n",
       "      <td>40.787763</td>\n",
       "      <td>39.044457</td>\n",
       "      <td>29.425494</td>\n",
       "    </tr>\n",
       "    <tr>\n",
       "      <td>RESIDENCE</td>\n",
       "      <td>30.578118</td>\n",
       "      <td>12.341407</td>\n",
       "      <td>2.742857</td>\n",
       "      <td>17.215212</td>\n",
       "      <td>2.179561</td>\n",
       "      <td>5.673250</td>\n",
       "    </tr>\n",
       "    <tr>\n",
       "      <td>SIDEWALK</td>\n",
       "      <td>0.047778</td>\n",
       "      <td>1.384083</td>\n",
       "      <td>0.368254</td>\n",
       "      <td>7.941082</td>\n",
       "      <td>28.233256</td>\n",
       "      <td>13.698384</td>\n",
       "    </tr>\n",
       "    <tr>\n",
       "      <td>STREET</td>\n",
       "      <td>0.513617</td>\n",
       "      <td>8.073818</td>\n",
       "      <td>71.758730</td>\n",
       "      <td>20.446153</td>\n",
       "      <td>28.045612</td>\n",
       "      <td>47.289048</td>\n",
       "    </tr>\n",
       "  </tbody>\n",
       "</table>\n",
       "</div>"
      ],
      "text/plain": [
       "New Crime Type       BURGLARY  CRIMINAL TRESPASS  MOTOR VEHICLE THEFT  \\\n",
       "New Crime Location                                                      \n",
       "APARTMENT           33.695652          10.364146             0.825397   \n",
       "OTHERS              35.164835          67.836546            24.304762   \n",
       "RESIDENCE           30.578118          12.341407             2.742857   \n",
       "SIDEWALK             0.047778           1.384083             0.368254   \n",
       "STREET               0.513617           8.073818            71.758730   \n",
       "\n",
       "New Crime Type         OTHERS    ROBBERY  WEAPONS VIOLATION  \n",
       "New Crime Location                                           \n",
       "APARTMENT           13.609791   2.497113           3.913824  \n",
       "OTHERS              40.787763  39.044457          29.425494  \n",
       "RESIDENCE           17.215212   2.179561           5.673250  \n",
       "SIDEWALK             7.941082  28.233256          13.698384  \n",
       "STREET              20.446153  28.045612          47.289048  "
      ]
     },
     "execution_count": 16,
     "metadata": {},
     "output_type": "execute_result"
    }
   ],
   "source": [
    "datasplit"
   ]
  },
  {
   "cell_type": "markdown",
   "metadata": {},
   "source": [
    "### Importing New Datafile\n",
    "\n",
    "In this section, a new CSV file \"socioecono.csv\" has been loaded for merging and the column name \"Community Area Number\" has been changed into \"Community Area\". In, the previous file, we also have a column name called \"Community Area\". Here, we will merge these two dataframes on the basis of \"Community Area\". The new dataframe will have a row size of 227078 and a column size of 35."
   ]
  },
  {
   "cell_type": "code",
   "execution_count": 17,
   "metadata": {},
   "outputs": [],
   "source": [
    "df2 = pd.read_csv('socioecono.csv')"
   ]
  },
  {
   "cell_type": "code",
   "execution_count": 18,
   "metadata": {},
   "outputs": [],
   "source": [
    "df2.rename(columns={'Community Area Number':'Community Area'}, inplace = True)\n",
    "merge_DF = pd.merge(df, df2, on = \"Community Area\")"
   ]
  },
  {
   "cell_type": "code",
   "execution_count": 19,
   "metadata": {},
   "outputs": [
    {
     "name": "stdout",
     "output_type": "stream",
     "text": [
      "(227078, 35)\n"
     ]
    }
   ],
   "source": [
    "print(merge_DF.shape)"
   ]
  },
  {
   "cell_type": "code",
   "execution_count": null,
   "metadata": {},
   "outputs": [],
   "source": []
  },
  {
   "cell_type": "code",
   "execution_count": null,
   "metadata": {},
   "outputs": [],
   "source": []
  },
  {
   "cell_type": "code",
   "execution_count": 20,
   "metadata": {},
   "outputs": [
    {
     "data": {
      "text/plain": [
       "Index(['ID', 'Case Number', 'Date', 'Block', 'IUCR', 'Primary Type',\n",
       "       'Description', 'Location Description', 'Arrest', 'Domestic', 'Beat',\n",
       "       'District', 'Ward', 'Community Area', 'FBI Code', 'X Coordinate',\n",
       "       'Y Coordinate', 'Year', 'Updated On', 'Latitude', 'Longitude',\n",
       "       'Location', 'weekdays', 'month', 'hour', 'New Crime Type',\n",
       "       'New Crime Location', 'COMMUNITY AREA NAME',\n",
       "       'PERCENT OF HOUSING CROWDED', 'PERCENT HOUSEHOLDS BELOW POVERTY',\n",
       "       'PERCENT AGED 16+ UNEMPLOYED',\n",
       "       'PERCENT AGED 25+ WITHOUT HIGH SCHOOL DIPLOMA',\n",
       "       'PERCENT AGED UNDER 18 OR OVER 64', 'PER CAPITA INCOME ',\n",
       "       'HARDSHIP INDEX'],\n",
       "      dtype='object')"
      ]
     },
     "execution_count": 20,
     "metadata": {},
     "output_type": "execute_result"
    }
   ],
   "source": [
    "merge_DF=merge_DF.dropna()\n",
    "merge_DF.columns"
   ]
  },
  {
   "cell_type": "markdown",
   "metadata": {},
   "source": [
    "#### In this part of this project we are categorizing the severe crimes and non-severe crimes. Later, we will apply ML algorithms to classify severe and non-severe crimes. We have also marked the severe crimes as 1 and non-severe crimes as 0. "
   ]
  },
  {
   "cell_type": "code",
   "execution_count": 21,
   "metadata": {},
   "outputs": [],
   "source": [
    "severe_crime_list=[\"ARSON\", \"ASSAULT\", \"BATTERY\", \"CRIM SEXUAL ASSAULT\",\"CRIMINAL DAMAGE\", \n",
    "                   \"CRIMINAL TRESPASS\", \"HOMICIDE\", \"ROBBERY\"]"
   ]
  },
  {
   "cell_type": "code",
   "execution_count": 22,
   "metadata": {},
   "outputs": [],
   "source": [
    "merge_DF['Severe'] = np.where(merge_DF[\"Primary Type\"].isin(severe_crime_list), 1, 0) "
   ]
  },
  {
   "cell_type": "code",
   "execution_count": 23,
   "metadata": {},
   "outputs": [
    {
     "data": {
      "text/plain": [
       "Index(['ID', 'Case Number', 'Date', 'Block', 'IUCR', 'Primary Type',\n",
       "       'Description', 'Location Description', 'Arrest', 'Domestic', 'Beat',\n",
       "       'District', 'Ward', 'Community Area', 'FBI Code', 'X Coordinate',\n",
       "       'Y Coordinate', 'Year', 'Updated On', 'Latitude', 'Longitude',\n",
       "       'Location', 'weekdays', 'month', 'hour', 'New Crime Type',\n",
       "       'New Crime Location', 'COMMUNITY AREA NAME',\n",
       "       'PERCENT OF HOUSING CROWDED', 'PERCENT HOUSEHOLDS BELOW POVERTY',\n",
       "       'PERCENT AGED 16+ UNEMPLOYED',\n",
       "       'PERCENT AGED 25+ WITHOUT HIGH SCHOOL DIPLOMA',\n",
       "       'PERCENT AGED UNDER 18 OR OVER 64', 'PER CAPITA INCOME ',\n",
       "       'HARDSHIP INDEX', 'Severe'],\n",
       "      dtype='object')"
      ]
     },
     "execution_count": 23,
     "metadata": {},
     "output_type": "execute_result"
    }
   ],
   "source": [
    "merge_DF.columns"
   ]
  },
  {
   "cell_type": "code",
   "execution_count": 24,
   "metadata": {},
   "outputs": [
    {
     "data": {
      "text/plain": [
       "Index(['ID', 'Case Number', 'Date', 'Block', 'IUCR', 'Primary Type',\n",
       "       'Description', 'Location Description', 'Arrest', 'Domestic', 'Beat',\n",
       "       'District', 'Ward', 'Community Area', 'FBI Code', 'X Coordinate',\n",
       "       'Y Coordinate', 'Year', 'Updated On', 'Latitude', 'Longitude',\n",
       "       'Location', 'weekdays', 'month', 'hour', 'New Crime Type',\n",
       "       'New Crime Location', 'COMMUNITY AREA NAME',\n",
       "       'PERCENT OF HOUSING CROWDED', 'PERCENT HOUSEHOLDS BELOW POVERTY',\n",
       "       'PERCENT AGED 16+ UNEMPLOYED',\n",
       "       'PERCENT AGED 25+ WITHOUT HIGH SCHOOL DIPLOMA',\n",
       "       'PERCENT AGED UNDER 18 OR OVER 64', 'PER CAPITA INCOME ',\n",
       "       'HARDSHIP INDEX', 'Severe'],\n",
       "      dtype='object')"
      ]
     },
     "execution_count": 24,
     "metadata": {},
     "output_type": "execute_result"
    }
   ],
   "source": [
    "merge_DF = merge_DF.dropna()\n",
    "merge_DF.columns"
   ]
  },
  {
   "cell_type": "code",
   "execution_count": null,
   "metadata": {},
   "outputs": [],
   "source": []
  },
  {
   "cell_type": "code",
   "execution_count": 25,
   "metadata": {},
   "outputs": [
    {
     "data": {
      "text/plain": [
       "(225197,)"
      ]
     },
     "execution_count": 25,
     "metadata": {},
     "output_type": "execute_result"
    }
   ],
   "source": [
    "merge_DF[\"Primary Type\"].shape"
   ]
  },
  {
   "cell_type": "code",
   "execution_count": null,
   "metadata": {},
   "outputs": [],
   "source": []
  },
  {
   "cell_type": "code",
   "execution_count": 26,
   "metadata": {},
   "outputs": [
    {
     "data": {
      "text/plain": [
       "Index(['ID', 'Case Number', 'Date', 'Block', 'IUCR', 'Primary Type',\n",
       "       'Description', 'Location Description', 'Arrest', 'Domestic', 'Beat',\n",
       "       'District', 'Ward', 'Community Area', 'FBI Code', 'X Coordinate',\n",
       "       'Y Coordinate', 'Year', 'Updated On', 'Latitude', 'Longitude',\n",
       "       'Location', 'weekdays', 'month', 'hour', 'New Crime Type',\n",
       "       'New Crime Location', 'COMMUNITY AREA NAME',\n",
       "       'PERCENT OF HOUSING CROWDED', 'PERCENT HOUSEHOLDS BELOW POVERTY',\n",
       "       'PERCENT AGED 16+ UNEMPLOYED',\n",
       "       'PERCENT AGED 25+ WITHOUT HIGH SCHOOL DIPLOMA',\n",
       "       'PERCENT AGED UNDER 18 OR OVER 64', 'PER CAPITA INCOME ',\n",
       "       'HARDSHIP INDEX', 'Severe'],\n",
       "      dtype='object')"
      ]
     },
     "execution_count": 26,
     "metadata": {},
     "output_type": "execute_result"
    }
   ],
   "source": [
    "df1 = merge_DF\n",
    "df1.columns"
   ]
  },
  {
   "cell_type": "markdown",
   "metadata": {},
   "source": [
    "#### Dropping the unnecessary features"
   ]
  },
  {
   "cell_type": "code",
   "execution_count": 27,
   "metadata": {},
   "outputs": [],
   "source": [
    "df1 = df1.drop(['ID',\n",
    "                'Case Number',\n",
    "                'Date',\n",
    "                'Block',\n",
    "                \"Description\",\n",
    "                'IUCR',\n",
    "                'Primary Type',\n",
    "                'Beat','District',\n",
    "                'Ward','FBI Code', 'X Coordinate','Y Coordinate',\n",
    "                'New Crime Location',\n",
    "                'Year', 'Updated On', 'Latitude', 'Longitude','Location',\n",
    "                'New Crime Type','COMMUNITY AREA NAME'], axis = 1)\n",
    "\n",
    "#CLUSTER_FEAT=['PERCENT OF HOUSING CROWDED','PERCENT HOUSEHOLDS BELOW POVERTY','PERCENT AGED 16+ UNEMPLOYED',\n",
    "#              'PERCENT AGED 25+ WITHOUT HIGH SCHOOL DIPLOMA','PERCENT AGED UNDER 18 OR OVER 64', 'PER CAPITA INCOME ',\n",
    "#              'HARDSHIP INDEX']\n",
    "\n",
    "#df_new = df1.drop(CLUSTER_FEAT, axis = 1)"
   ]
  },
  {
   "cell_type": "markdown",
   "metadata": {},
   "source": [
    "#### Converting categorical values into numerical values using get_dummies() command of pandas dataframe."
   ]
  },
  {
   "cell_type": "code",
   "execution_count": 28,
   "metadata": {},
   "outputs": [],
   "source": [
    "dummydf=pd.get_dummies(df1,columns=[\"Community Area\",\"hour\",\"weekdays\",\"month\",\"Location Description\",\"Arrest\",\"Domestic\"])\n"
   ]
  },
  {
   "cell_type": "code",
   "execution_count": null,
   "metadata": {},
   "outputs": [],
   "source": []
  },
  {
   "cell_type": "code",
   "execution_count": 29,
   "metadata": {},
   "outputs": [],
   "source": [
    "dummydf=dummydf.dropna()"
   ]
  },
  {
   "cell_type": "code",
   "execution_count": 30,
   "metadata": {},
   "outputs": [
    {
     "data": {
      "text/plain": [
       "Index(['PERCENT OF HOUSING CROWDED', 'PERCENT HOUSEHOLDS BELOW POVERTY',\n",
       "       'PERCENT AGED 16+ UNEMPLOYED',\n",
       "       'PERCENT AGED 25+ WITHOUT HIGH SCHOOL DIPLOMA',\n",
       "       'PERCENT AGED UNDER 18 OR OVER 64', 'PER CAPITA INCOME ',\n",
       "       'HARDSHIP INDEX', 'Severe', 'Community Area_1.0', 'Community Area_2.0',\n",
       "       ...\n",
       "       'Location Description_VEHICLE NON-COMMERCIAL',\n",
       "       'Location Description_VEHICLE-COMMERCIAL',\n",
       "       'Location Description_VEHICLE-COMMERCIAL - ENTERTAINMENT/PARTY BUS',\n",
       "       'Location Description_VEHICLE-COMMERCIAL - TROLLEY BUS',\n",
       "       'Location Description_WAREHOUSE', 'Location Description_YARD',\n",
       "       'Arrest_False', 'Arrest_True', 'Domestic_False', 'Domestic_True'],\n",
       "      dtype='object', length=255)"
      ]
     },
     "execution_count": 30,
     "metadata": {},
     "output_type": "execute_result"
    }
   ],
   "source": [
    "dummydf.columns"
   ]
  },
  {
   "cell_type": "code",
   "execution_count": 31,
   "metadata": {},
   "outputs": [
    {
     "data": {
      "text/plain": [
       "77.0"
      ]
     },
     "execution_count": 31,
     "metadata": {},
     "output_type": "execute_result"
    }
   ],
   "source": [
    "df.loc[:,'Community Area'].shape\n",
    "df2.loc[:,'Community Area'].max()\n",
    "#merge_DF.loc[:,'Community Area'].max()"
   ]
  },
  {
   "cell_type": "code",
   "execution_count": null,
   "metadata": {},
   "outputs": [],
   "source": []
  },
  {
   "cell_type": "code",
   "execution_count": null,
   "metadata": {},
   "outputs": [],
   "source": []
  },
  {
   "cell_type": "code",
   "execution_count": 32,
   "metadata": {},
   "outputs": [
    {
     "data": {
      "text/plain": [
       "Index(['PERCENT OF HOUSING CROWDED', 'PERCENT HOUSEHOLDS BELOW POVERTY',\n",
       "       'PERCENT AGED 16+ UNEMPLOYED',\n",
       "       'PERCENT AGED 25+ WITHOUT HIGH SCHOOL DIPLOMA',\n",
       "       'PERCENT AGED UNDER 18 OR OVER 64', 'PER CAPITA INCOME ',\n",
       "       'HARDSHIP INDEX', 'Severe', 'Community Area_1.0', 'Community Area_2.0',\n",
       "       ...\n",
       "       'Location Description_VEHICLE NON-COMMERCIAL',\n",
       "       'Location Description_VEHICLE-COMMERCIAL',\n",
       "       'Location Description_VEHICLE-COMMERCIAL - ENTERTAINMENT/PARTY BUS',\n",
       "       'Location Description_VEHICLE-COMMERCIAL - TROLLEY BUS',\n",
       "       'Location Description_WAREHOUSE', 'Location Description_YARD',\n",
       "       'Arrest_False', 'Arrest_True', 'Domestic_False', 'Domestic_True'],\n",
       "      dtype='object', length=255)"
      ]
     },
     "execution_count": 32,
     "metadata": {},
     "output_type": "execute_result"
    }
   ],
   "source": [
    "dummydf.columns"
   ]
  },
  {
   "cell_type": "markdown",
   "metadata": {},
   "source": [
    "# kNN Algorithm "
   ]
  },
  {
   "cell_type": "code",
   "execution_count": 33,
   "metadata": {},
   "outputs": [],
   "source": [
    "from sklearn.model_selection import train_test_split\n",
    "from sklearn.neighbors import KNeighborsClassifier"
   ]
  },
  {
   "cell_type": "code",
   "execution_count": 33,
   "metadata": {},
   "outputs": [
    {
     "name": "stderr",
     "output_type": "stream",
     "text": [
      "C:\\Users\\User\\AppData\\Local\\conda\\conda\\envs\\UserEnv\\lib\\site-packages\\ipykernel_launcher.py:11: DataConversionWarning: A column-vector y was passed when a 1d array was expected. Please change the shape of y to (n_samples, ), for example using ravel().\n",
      "  # This is added back by InteractiveShellApp.init_path()\n"
     ]
    },
    {
     "name": "stdout",
     "output_type": "stream",
     "text": [
      "-------------------------------------------------------\n"
     ]
    },
    {
     "name": "stderr",
     "output_type": "stream",
     "text": [
      "C:\\Users\\User\\AppData\\Local\\conda\\conda\\envs\\UserEnv\\lib\\site-packages\\ipykernel_launcher.py:11: DataConversionWarning: A column-vector y was passed when a 1d array was expected. Please change the shape of y to (n_samples, ), for example using ravel().\n",
      "  # This is added back by InteractiveShellApp.init_path()\n"
     ]
    },
    {
     "name": "stdout",
     "output_type": "stream",
     "text": [
      "-------------------------------------------------------\n"
     ]
    },
    {
     "name": "stderr",
     "output_type": "stream",
     "text": [
      "C:\\Users\\User\\AppData\\Local\\conda\\conda\\envs\\UserEnv\\lib\\site-packages\\ipykernel_launcher.py:11: DataConversionWarning: A column-vector y was passed when a 1d array was expected. Please change the shape of y to (n_samples, ), for example using ravel().\n",
      "  # This is added back by InteractiveShellApp.init_path()\n"
     ]
    },
    {
     "name": "stdout",
     "output_type": "stream",
     "text": [
      "-------------------------------------------------------\n"
     ]
    },
    {
     "name": "stderr",
     "output_type": "stream",
     "text": [
      "C:\\Users\\User\\AppData\\Local\\conda\\conda\\envs\\UserEnv\\lib\\site-packages\\ipykernel_launcher.py:11: DataConversionWarning: A column-vector y was passed when a 1d array was expected. Please change the shape of y to (n_samples, ), for example using ravel().\n",
      "  # This is added back by InteractiveShellApp.init_path()\n"
     ]
    },
    {
     "name": "stdout",
     "output_type": "stream",
     "text": [
      "-------------------------------------------------------\n"
     ]
    },
    {
     "name": "stderr",
     "output_type": "stream",
     "text": [
      "C:\\Users\\User\\AppData\\Local\\conda\\conda\\envs\\UserEnv\\lib\\site-packages\\ipykernel_launcher.py:11: DataConversionWarning: A column-vector y was passed when a 1d array was expected. Please change the shape of y to (n_samples, ), for example using ravel().\n",
      "  # This is added back by InteractiveShellApp.init_path()\n"
     ]
    },
    {
     "name": "stdout",
     "output_type": "stream",
     "text": [
      "-------------------------------------------------------\n"
     ]
    },
    {
     "name": "stderr",
     "output_type": "stream",
     "text": [
      "C:\\Users\\User\\AppData\\Local\\conda\\conda\\envs\\UserEnv\\lib\\site-packages\\ipykernel_launcher.py:11: DataConversionWarning: A column-vector y was passed when a 1d array was expected. Please change the shape of y to (n_samples, ), for example using ravel().\n",
      "  # This is added back by InteractiveShellApp.init_path()\n"
     ]
    },
    {
     "name": "stdout",
     "output_type": "stream",
     "text": [
      "-------------------------------------------------------\n"
     ]
    },
    {
     "name": "stderr",
     "output_type": "stream",
     "text": [
      "C:\\Users\\User\\AppData\\Local\\conda\\conda\\envs\\UserEnv\\lib\\site-packages\\ipykernel_launcher.py:11: DataConversionWarning: A column-vector y was passed when a 1d array was expected. Please change the shape of y to (n_samples, ), for example using ravel().\n",
      "  # This is added back by InteractiveShellApp.init_path()\n"
     ]
    },
    {
     "name": "stdout",
     "output_type": "stream",
     "text": [
      "-------------------------------------------------------\n"
     ]
    },
    {
     "name": "stderr",
     "output_type": "stream",
     "text": [
      "C:\\Users\\User\\AppData\\Local\\conda\\conda\\envs\\UserEnv\\lib\\site-packages\\ipykernel_launcher.py:11: DataConversionWarning: A column-vector y was passed when a 1d array was expected. Please change the shape of y to (n_samples, ), for example using ravel().\n",
      "  # This is added back by InteractiveShellApp.init_path()\n"
     ]
    },
    {
     "name": "stdout",
     "output_type": "stream",
     "text": [
      "-------------------------------------------------------\n"
     ]
    },
    {
     "name": "stderr",
     "output_type": "stream",
     "text": [
      "C:\\Users\\User\\AppData\\Local\\conda\\conda\\envs\\UserEnv\\lib\\site-packages\\ipykernel_launcher.py:11: DataConversionWarning: A column-vector y was passed when a 1d array was expected. Please change the shape of y to (n_samples, ), for example using ravel().\n",
      "  # This is added back by InteractiveShellApp.init_path()\n"
     ]
    },
    {
     "name": "stdout",
     "output_type": "stream",
     "text": [
      "-------------------------------------------------------\n"
     ]
    },
    {
     "name": "stderr",
     "output_type": "stream",
     "text": [
      "C:\\Users\\User\\AppData\\Local\\conda\\conda\\envs\\UserEnv\\lib\\site-packages\\ipykernel_launcher.py:11: DataConversionWarning: A column-vector y was passed when a 1d array was expected. Please change the shape of y to (n_samples, ), for example using ravel().\n",
      "  # This is added back by InteractiveShellApp.init_path()\n"
     ]
    },
    {
     "name": "stdout",
     "output_type": "stream",
     "text": [
      "-------------------------------------------------------\n"
     ]
    },
    {
     "name": "stderr",
     "output_type": "stream",
     "text": [
      "C:\\Users\\User\\AppData\\Local\\conda\\conda\\envs\\UserEnv\\lib\\site-packages\\ipykernel_launcher.py:11: DataConversionWarning: A column-vector y was passed when a 1d array was expected. Please change the shape of y to (n_samples, ), for example using ravel().\n",
      "  # This is added back by InteractiveShellApp.init_path()\n"
     ]
    },
    {
     "name": "stdout",
     "output_type": "stream",
     "text": [
      "-------------------------------------------------------\n"
     ]
    },
    {
     "name": "stderr",
     "output_type": "stream",
     "text": [
      "C:\\Users\\User\\AppData\\Local\\conda\\conda\\envs\\UserEnv\\lib\\site-packages\\ipykernel_launcher.py:11: DataConversionWarning: A column-vector y was passed when a 1d array was expected. Please change the shape of y to (n_samples, ), for example using ravel().\n",
      "  # This is added back by InteractiveShellApp.init_path()\n"
     ]
    },
    {
     "name": "stdout",
     "output_type": "stream",
     "text": [
      "-------------------------------------------------------\n"
     ]
    },
    {
     "name": "stderr",
     "output_type": "stream",
     "text": [
      "C:\\Users\\User\\AppData\\Local\\conda\\conda\\envs\\UserEnv\\lib\\site-packages\\ipykernel_launcher.py:11: DataConversionWarning: A column-vector y was passed when a 1d array was expected. Please change the shape of y to (n_samples, ), for example using ravel().\n",
      "  # This is added back by InteractiveShellApp.init_path()\n"
     ]
    },
    {
     "name": "stdout",
     "output_type": "stream",
     "text": [
      "-------------------------------------------------------\n"
     ]
    },
    {
     "name": "stderr",
     "output_type": "stream",
     "text": [
      "C:\\Users\\User\\AppData\\Local\\conda\\conda\\envs\\UserEnv\\lib\\site-packages\\ipykernel_launcher.py:11: DataConversionWarning: A column-vector y was passed when a 1d array was expected. Please change the shape of y to (n_samples, ), for example using ravel().\n",
      "  # This is added back by InteractiveShellApp.init_path()\n"
     ]
    },
    {
     "name": "stdout",
     "output_type": "stream",
     "text": [
      "-------------------------------------------------------\n"
     ]
    }
   ],
   "source": [
    "n = [2000, 4000, 6000, 8000, 10000, 12000, 14000, 16000, 18000, 20000,25000,30000,40000,50000]\n",
    "z1 = []\n",
    "z2 = []\n",
    "X = np.array(dummydf.drop(['Severe'], 1))\n",
    "y = np.array(dummydf['Severe']).reshape(-1,1)\n",
    "for i,item in enumerate(n):\n",
    "    X = X[0:item,:]\n",
    "    y = y[0:item,:]\n",
    "    X_train, X_test, y_train, y_test = train_test_split(X, y, test_size = 0.25)\n",
    "    knn = KNeighborsClassifier(n_neighbors=8)\n",
    "    knn.fit(X_train, y_train)\n",
    "    train_acc = knn.score(X_train, y_train)\n",
    "    test_acc = knn.score(X_test, y_test)\n",
    "    z1.append(train_acc)\n",
    "    z2.append(test_acc)\n",
    "    print(\"-------------------------------------------------------\")"
   ]
  },
  {
   "cell_type": "code",
   "execution_count": null,
   "metadata": {},
   "outputs": [],
   "source": []
  },
  {
   "cell_type": "code",
   "execution_count": 35,
   "metadata": {},
   "outputs": [
    {
     "data": {
      "image/png": "[encoded data removed]",
      "text/plain": [
       "<Figure size 1440x720 with 1 Axes>"
      ]
     },
     "metadata": {
      "needs_background": "light"
     },
     "output_type": "display_data"
    }
   ],
   "source": [
    "plt.plot(n,z1,'-b',label=\"train accuracy\")\n",
    "plt.plot(n,z2,'-r',label=\"test accuracy\")\n",
    "plt.ylim(0,1)\n",
    "plt.rcParams[\"figure.figsize\"] = (10,5)\n",
    "plt.xlabel(\"number of examples\")\n",
    "plt.ylabel(\"accuracy\")\n",
    "plt.legend()\n",
    "#plt.legend(\"train accuracy\", \"test accuracy\")\n",
    "plt.show()"
   ]
  },
  {
   "cell_type": "markdown",
   "metadata": {},
   "source": [
    "## Severe and Non-severe crime classification"
   ]
  },
  {
   "cell_type": "markdown",
   "metadata": {},
   "source": [
    "# Logistic Regression"
   ]
  },
  {
   "cell_type": "code",
   "execution_count": 36,
   "metadata": {},
   "outputs": [],
   "source": [
    "from sklearn.linear_model import LogisticRegression"
   ]
  },
  {
   "cell_type": "code",
   "execution_count": 37,
   "metadata": {},
   "outputs": [],
   "source": [
    "n = [2000, 4000, 6000, 8000, 10000, 12000, 14000, 16000, 18000, 20000,25000,30000,40000,50000]\n",
    "z1 = []\n",
    "z2 = []\n",
    "X = np.array(dummydf.drop(['Severe'], 1))\n",
    "y = np.array(dummydf['Severe']).reshape(-1,1)"
   ]
  },
  {
   "cell_type": "code",
   "execution_count": 38,
   "metadata": {},
   "outputs": [
    {
     "name": "stderr",
     "output_type": "stream",
     "text": [
      "C:\\Users\\User\\AppData\\Local\\conda\\conda\\envs\\UserEnv\\lib\\site-packages\\sklearn\\linear_model\\logistic.py:432: FutureWarning: Default solver will be changed to 'lbfgs' in 0.22. Specify a solver to silence this warning.\n",
      "  FutureWarning)\n",
      "C:\\Users\\User\\AppData\\Local\\conda\\conda\\envs\\UserEnv\\lib\\site-packages\\sklearn\\utils\\validation.py:724: DataConversionWarning: A column-vector y was passed when a 1d array was expected. Please change the shape of y to (n_samples, ), for example using ravel().\n",
      "  y = column_or_1d(y, warn=True)\n"
     ]
    },
    {
     "name": "stdout",
     "output_type": "stream",
     "text": [
      "-------------------------------------------------------\n",
      "-------------------------------------------------------\n",
      "-------------------------------------------------------\n",
      "-------------------------------------------------------\n",
      "-------------------------------------------------------\n",
      "-------------------------------------------------------\n",
      "-------------------------------------------------------\n",
      "-------------------------------------------------------\n",
      "-------------------------------------------------------\n",
      "-------------------------------------------------------\n",
      "-------------------------------------------------------\n",
      "-------------------------------------------------------\n",
      "-------------------------------------------------------\n",
      "-------------------------------------------------------\n"
     ]
    },
    {
     "name": "stderr",
     "output_type": "stream",
     "text": [
      "C:\\Users\\User\\AppData\\Local\\conda\\conda\\envs\\UserEnv\\lib\\site-packages\\sklearn\\linear_model\\logistic.py:432: FutureWarning: Default solver will be changed to 'lbfgs' in 0.22. Specify a solver to silence this warning.\n",
      "  FutureWarning)\n",
      "C:\\Users\\User\\AppData\\Local\\conda\\conda\\envs\\UserEnv\\lib\\site-packages\\sklearn\\utils\\validation.py:724: DataConversionWarning: A column-vector y was passed when a 1d array was expected. Please change the shape of y to (n_samples, ), for example using ravel().\n",
      "  y = column_or_1d(y, warn=True)\n",
      "C:\\Users\\User\\AppData\\Local\\conda\\conda\\envs\\UserEnv\\lib\\site-packages\\sklearn\\linear_model\\logistic.py:432: FutureWarning: Default solver will be changed to 'lbfgs' in 0.22. Specify a solver to silence this warning.\n",
      "  FutureWarning)\n",
      "C:\\Users\\User\\AppData\\Local\\conda\\conda\\envs\\UserEnv\\lib\\site-packages\\sklearn\\utils\\validation.py:724: DataConversionWarning: A column-vector y was passed when a 1d array was expected. Please change the shape of y to (n_samples, ), for example using ravel().\n",
      "  y = column_or_1d(y, warn=True)\n",
      "C:\\Users\\User\\AppData\\Local\\conda\\conda\\envs\\UserEnv\\lib\\site-packages\\sklearn\\linear_model\\logistic.py:432: FutureWarning: Default solver will be changed to 'lbfgs' in 0.22. Specify a solver to silence this warning.\n",
      "  FutureWarning)\n",
      "C:\\Users\\User\\AppData\\Local\\conda\\conda\\envs\\UserEnv\\lib\\site-packages\\sklearn\\utils\\validation.py:724: DataConversionWarning: A column-vector y was passed when a 1d array was expected. Please change the shape of y to (n_samples, ), for example using ravel().\n",
      "  y = column_or_1d(y, warn=True)\n",
      "C:\\Users\\User\\AppData\\Local\\conda\\conda\\envs\\UserEnv\\lib\\site-packages\\sklearn\\linear_model\\logistic.py:432: FutureWarning: Default solver will be changed to 'lbfgs' in 0.22. Specify a solver to silence this warning.\n",
      "  FutureWarning)\n",
      "C:\\Users\\User\\AppData\\Local\\conda\\conda\\envs\\UserEnv\\lib\\site-packages\\sklearn\\utils\\validation.py:724: DataConversionWarning: A column-vector y was passed when a 1d array was expected. Please change the shape of y to (n_samples, ), for example using ravel().\n",
      "  y = column_or_1d(y, warn=True)\n",
      "C:\\Users\\User\\AppData\\Local\\conda\\conda\\envs\\UserEnv\\lib\\site-packages\\sklearn\\linear_model\\logistic.py:432: FutureWarning: Default solver will be changed to 'lbfgs' in 0.22. Specify a solver to silence this warning.\n",
      "  FutureWarning)\n",
      "C:\\Users\\User\\AppData\\Local\\conda\\conda\\envs\\UserEnv\\lib\\site-packages\\sklearn\\utils\\validation.py:724: DataConversionWarning: A column-vector y was passed when a 1d array was expected. Please change the shape of y to (n_samples, ), for example using ravel().\n",
      "  y = column_or_1d(y, warn=True)\n",
      "C:\\Users\\User\\AppData\\Local\\conda\\conda\\envs\\UserEnv\\lib\\site-packages\\sklearn\\linear_model\\logistic.py:432: FutureWarning: Default solver will be changed to 'lbfgs' in 0.22. Specify a solver to silence this warning.\n",
      "  FutureWarning)\n",
      "C:\\Users\\User\\AppData\\Local\\conda\\conda\\envs\\UserEnv\\lib\\site-packages\\sklearn\\utils\\validation.py:724: DataConversionWarning: A column-vector y was passed when a 1d array was expected. Please change the shape of y to (n_samples, ), for example using ravel().\n",
      "  y = column_or_1d(y, warn=True)\n",
      "C:\\Users\\User\\AppData\\Local\\conda\\conda\\envs\\UserEnv\\lib\\site-packages\\sklearn\\linear_model\\logistic.py:432: FutureWarning: Default solver will be changed to 'lbfgs' in 0.22. Specify a solver to silence this warning.\n",
      "  FutureWarning)\n",
      "C:\\Users\\User\\AppData\\Local\\conda\\conda\\envs\\UserEnv\\lib\\site-packages\\sklearn\\utils\\validation.py:724: DataConversionWarning: A column-vector y was passed when a 1d array was expected. Please change the shape of y to (n_samples, ), for example using ravel().\n",
      "  y = column_or_1d(y, warn=True)\n",
      "C:\\Users\\User\\AppData\\Local\\conda\\conda\\envs\\UserEnv\\lib\\site-packages\\sklearn\\linear_model\\logistic.py:432: FutureWarning: Default solver will be changed to 'lbfgs' in 0.22. Specify a solver to silence this warning.\n",
      "  FutureWarning)\n",
      "C:\\Users\\User\\AppData\\Local\\conda\\conda\\envs\\UserEnv\\lib\\site-packages\\sklearn\\utils\\validation.py:724: DataConversionWarning: A column-vector y was passed when a 1d array was expected. Please change the shape of y to (n_samples, ), for example using ravel().\n",
      "  y = column_or_1d(y, warn=True)\n",
      "C:\\Users\\User\\AppData\\Local\\conda\\conda\\envs\\UserEnv\\lib\\site-packages\\sklearn\\linear_model\\logistic.py:432: FutureWarning: Default solver will be changed to 'lbfgs' in 0.22. Specify a solver to silence this warning.\n",
      "  FutureWarning)\n",
      "C:\\Users\\User\\AppData\\Local\\conda\\conda\\envs\\UserEnv\\lib\\site-packages\\sklearn\\utils\\validation.py:724: DataConversionWarning: A column-vector y was passed when a 1d array was expected. Please change the shape of y to (n_samples, ), for example using ravel().\n",
      "  y = column_or_1d(y, warn=True)\n",
      "C:\\Users\\User\\AppData\\Local\\conda\\conda\\envs\\UserEnv\\lib\\site-packages\\sklearn\\linear_model\\logistic.py:432: FutureWarning: Default solver will be changed to 'lbfgs' in 0.22. Specify a solver to silence this warning.\n",
      "  FutureWarning)\n",
      "C:\\Users\\User\\AppData\\Local\\conda\\conda\\envs\\UserEnv\\lib\\site-packages\\sklearn\\utils\\validation.py:724: DataConversionWarning: A column-vector y was passed when a 1d array was expected. Please change the shape of y to (n_samples, ), for example using ravel().\n",
      "  y = column_or_1d(y, warn=True)\n",
      "C:\\Users\\User\\AppData\\Local\\conda\\conda\\envs\\UserEnv\\lib\\site-packages\\sklearn\\linear_model\\logistic.py:432: FutureWarning: Default solver will be changed to 'lbfgs' in 0.22. Specify a solver to silence this warning.\n",
      "  FutureWarning)\n",
      "C:\\Users\\User\\AppData\\Local\\conda\\conda\\envs\\UserEnv\\lib\\site-packages\\sklearn\\utils\\validation.py:724: DataConversionWarning: A column-vector y was passed when a 1d array was expected. Please change the shape of y to (n_samples, ), for example using ravel().\n",
      "  y = column_or_1d(y, warn=True)\n",
      "C:\\Users\\User\\AppData\\Local\\conda\\conda\\envs\\UserEnv\\lib\\site-packages\\sklearn\\linear_model\\logistic.py:432: FutureWarning: Default solver will be changed to 'lbfgs' in 0.22. Specify a solver to silence this warning.\n",
      "  FutureWarning)\n",
      "C:\\Users\\User\\AppData\\Local\\conda\\conda\\envs\\UserEnv\\lib\\site-packages\\sklearn\\utils\\validation.py:724: DataConversionWarning: A column-vector y was passed when a 1d array was expected. Please change the shape of y to (n_samples, ), for example using ravel().\n",
      "  y = column_or_1d(y, warn=True)\n",
      "C:\\Users\\User\\AppData\\Local\\conda\\conda\\envs\\UserEnv\\lib\\site-packages\\sklearn\\linear_model\\logistic.py:432: FutureWarning: Default solver will be changed to 'lbfgs' in 0.22. Specify a solver to silence this warning.\n",
      "  FutureWarning)\n",
      "C:\\Users\\User\\AppData\\Local\\conda\\conda\\envs\\UserEnv\\lib\\site-packages\\sklearn\\utils\\validation.py:724: DataConversionWarning: A column-vector y was passed when a 1d array was expected. Please change the shape of y to (n_samples, ), for example using ravel().\n",
      "  y = column_or_1d(y, warn=True)\n"
     ]
    }
   ],
   "source": [
    "for i,item in enumerate(n):\n",
    "    X = X[0:item,:]\n",
    "    y = y[0:item,:]\n",
    "    X_train, X_test, y_train, y_test = train_test_split(X, y, test_size = 0.25)\n",
    "    logreg = LogisticRegression()\n",
    "    logreg.fit(X_train, y_train)\n",
    "    train_acc = logreg.score(X_train, y_train)\n",
    "    test_acc = logreg.score(X_test, y_test)\n",
    "    z1.append(train_acc)\n",
    "    z2.append(test_acc)\n",
    "    print(\"-------------------------------------------------------\")\n",
    "    "
   ]
  },
  {
   "cell_type": "code",
   "execution_count": 39,
   "metadata": {},
   "outputs": [
    {
     "name": "stdout",
     "output_type": "stream",
     "text": [
      "[2000, 4000, 6000, 8000, 10000, 12000, 14000, 16000, 18000, 20000, 25000, 30000, 40000, 50000]\n",
      "[0.706, 0.7153333333333334, 0.6906666666666667, 0.6986666666666667, 0.704, 0.7026666666666667, 0.696, 0.6986666666666667, 0.6926666666666667, 0.6993333333333334, 0.7046666666666667, 0.6946666666666667, 0.708, 0.694]\n",
      "[0.684, 0.656, 0.73, 0.706, 0.69, 0.694, 0.714, 0.706, 0.724, 0.704, 0.688, 0.718, 0.678, 0.72]\n"
     ]
    }
   ],
   "source": [
    "print(n)\n",
    "print(z1)\n",
    "print(z2)"
   ]
  },
  {
   "cell_type": "code",
   "execution_count": 40,
   "metadata": {},
   "outputs": [
    {
     "data": {
      "image/png": "[encoded data removed]",
      "text/plain": [
       "<Figure size 720x360 with 1 Axes>"
      ]
     },
     "metadata": {
      "needs_background": "light"
     },
     "output_type": "display_data"
    }
   ],
   "source": [
    "plt.plot(n,z1,'-b',label=\"train accuracy\")\n",
    "plt.plot(n,z2,'-r',label=\"test accuracy\")\n",
    "plt.rcParams[\"figure.figsize\"] = (10,5)\n",
    "plt.legend()\n",
    "plt.ylim(0,1)\n",
    "plt.xlabel(\"number of examples\")\n",
    "plt.ylabel(\"accuracy\")\n",
    "plt.show()"
   ]
  },
  {
   "cell_type": "code",
   "execution_count": null,
   "metadata": {},
   "outputs": [],
   "source": []
  },
  {
   "cell_type": "code",
   "execution_count": null,
   "metadata": {},
   "outputs": [],
   "source": []
  },
  {
   "cell_type": "markdown",
   "metadata": {},
   "source": [
    "# 2nd Part : Crime Classification"
   ]
  },
  {
   "cell_type": "markdown",
   "metadata": {},
   "source": [
    "##### This part of this project is very crucial because we not doing any simple classification, here we are implementing rare class classification. rare class classification is always a problematic task for the machine learning engineers.\n",
    "\n",
    "##### The dataset where we will implement our ML algorithm is mainly imbalanced dataset. That's why first we have implemented the concept of upsampling bu applying SMOTE algorithm.\n",
    "\n",
    "##### Among the supervised learning, we have implemented KNN, logistic regression and linear support vector machine. We also implemented  KMeans algorithm as unsupervised algorithm."
   ]
  },
  {
   "cell_type": "code",
   "execution_count": 41,
   "metadata": {},
   "outputs": [
    {
     "data": {
      "text/plain": [
       "Index(['ID', 'Case Number', 'Date', 'Block', 'IUCR', 'Primary Type',\n",
       "       'Description', 'Location Description', 'Arrest', 'Domestic', 'Beat',\n",
       "       'District', 'Ward', 'Community Area', 'FBI Code', 'X Coordinate',\n",
       "       'Y Coordinate', 'Year', 'Updated On', 'Latitude', 'Longitude',\n",
       "       'Location', 'weekdays', 'month', 'hour', 'New Crime Type',\n",
       "       'New Crime Location', 'COMMUNITY AREA NAME',\n",
       "       'PERCENT OF HOUSING CROWDED', 'PERCENT HOUSEHOLDS BELOW POVERTY',\n",
       "       'PERCENT AGED 16+ UNEMPLOYED',\n",
       "       'PERCENT AGED 25+ WITHOUT HIGH SCHOOL DIPLOMA',\n",
       "       'PERCENT AGED UNDER 18 OR OVER 64', 'PER CAPITA INCOME ',\n",
       "       'HARDSHIP INDEX', 'Severe'],\n",
       "      dtype='object')"
      ]
     },
     "execution_count": 41,
     "metadata": {},
     "output_type": "execute_result"
    }
   ],
   "source": [
    "df_part2 = merge_DF\n",
    "df_part2.columns"
   ]
  },
  {
   "cell_type": "code",
   "execution_count": 42,
   "metadata": {},
   "outputs": [],
   "source": [
    "df_part2 = df_part2.drop(['ID',\n",
    "                     'Case Number',\n",
    "                     'Date','Block',\n",
    "                     'IUCR',\n",
    "                     'Primary Type','Beat','District',\n",
    "                     'Ward','FBI Code', 'X Coordinate','Y Coordinate',\n",
    "                     'New Crime Location','Year', 'Updated On', \n",
    "                     'Latitude', 'Longitude','Location','COMMUNITY AREA NAME','Severe',\n",
    "                     'PERCENT OF HOUSING CROWDED','PERCENT HOUSEHOLDS BELOW POVERTY',\n",
    "                     'PERCENT AGED 16+ UNEMPLOYED','PERCENT AGED 25+ WITHOUT HIGH SCHOOL DIPLOMA',\n",
    "                     'PERCENT AGED UNDER 18 OR OVER 64', 'PER CAPITA INCOME ','HARDSHIP INDEX',\"Description\"], axis = 1)"
   ]
  },
  {
   "cell_type": "code",
   "execution_count": 43,
   "metadata": {},
   "outputs": [
    {
     "data": {
      "text/plain": [
       "Index(['Location Description', 'Arrest', 'Domestic', 'Community Area',\n",
       "       'weekdays', 'month', 'hour', 'New Crime Type'],\n",
       "      dtype='object')"
      ]
     },
     "execution_count": 43,
     "metadata": {},
     "output_type": "execute_result"
    }
   ],
   "source": [
    "df_part2.columns"
   ]
  },
  {
   "cell_type": "code",
   "execution_count": 44,
   "metadata": {},
   "outputs": [],
   "source": [
    "dummydf_part2 = pd.get_dummies(df_part2, columns=[\"Community Area\",\n",
    "                                                  \"hour\",\"weekdays\",\"month\",\n",
    "                                                  \"Location Description\",\n",
    "                                                  \"New Crime Type\",'Arrest','Domestic'])"
   ]
  },
  {
   "cell_type": "code",
   "execution_count": 45,
   "metadata": {},
   "outputs": [
    {
     "data": {
      "text/plain": [
       "Index(['Community Area_1.0', 'Community Area_2.0', 'Community Area_3.0',\n",
       "       'Community Area_4.0', 'Community Area_5.0', 'Community Area_6.0',\n",
       "       'Community Area_7.0', 'Community Area_8.0', 'Community Area_9.0',\n",
       "       'Community Area_10.0',\n",
       "       ...\n",
       "       'Location Description_YARD', 'New Crime Type_BURGLARY',\n",
       "       'New Crime Type_CRIMINAL TRESPASS',\n",
       "       'New Crime Type_MOTOR VEHICLE THEFT', 'New Crime Type_ROBBERY',\n",
       "       'New Crime Type_WEAPONS VIOLATION', 'Arrest_False', 'Arrest_True',\n",
       "       'Domestic_False', 'Domestic_True'],\n",
       "      dtype='object', length=252)"
      ]
     },
     "execution_count": 45,
     "metadata": {},
     "output_type": "execute_result"
    }
   ],
   "source": [
    "dummydf_part2 = dummydf_part2.dropna()\n",
    "#sum(dummydf_part2.loc[:,'New Crime Type_CRIMINAL DAMAGE']==1)\n",
    "dummydf_part2 = dummydf_part2.drop(['New Crime Type_OTHERS'], axis =1)\n",
    "dummydf_part2.columns\n",
    "#dummydf_part2.shape\n"
   ]
  },
  {
   "cell_type": "code",
   "execution_count": null,
   "metadata": {},
   "outputs": [],
   "source": []
  },
  {
   "cell_type": "markdown",
   "metadata": {},
   "source": []
  },
  {
   "cell_type": "code",
   "execution_count": null,
   "metadata": {},
   "outputs": [],
   "source": []
  },
  {
   "cell_type": "code",
   "execution_count": null,
   "metadata": {},
   "outputs": [],
   "source": [
    "\n",
    "    \n",
    "    \n",
    "    "
   ]
  },
  {
   "cell_type": "code",
   "execution_count": null,
   "metadata": {},
   "outputs": [],
   "source": []
  },
  {
   "cell_type": "markdown",
   "metadata": {},
   "source": [
    "# Logistic Regression for Part 2"
   ]
  },
  {
   "cell_type": "code",
   "execution_count": 46,
   "metadata": {},
   "outputs": [],
   "source": [
    "Test_crime_2 = ['New Crime Type_BURGLARY','New Crime Type_CRIMINAL TRESPASS',\n",
    "             'New Crime Type_MOTOR VEHICLE THEFT',\n",
    "             'New Crime Type_ROBBERY','New Crime Type_WEAPONS VIOLATION']"
   ]
  },
  {
   "cell_type": "code",
   "execution_count": 119,
   "metadata": {},
   "outputs": [
    {
     "name": "stdout",
     "output_type": "stream",
     "text": [
      "---------------------------------------------------------------------------------\n",
      "                                   New Crime Type_BURGLARY                              \n",
      "---------------------------------------------------------------------------------\n"
     ]
    },
    {
     "name": "stderr",
     "output_type": "stream",
     "text": [
      "C:\\Users\\User\\AppData\\Local\\conda\\conda\\envs\\UserEnv\\lib\\site-packages\\sklearn\\utils\\validation.py:724: DataConversionWarning: A column-vector y was passed when a 1d array was expected. Please change the shape of y to (n_samples, ), for example using ravel().\n",
      "  y = column_or_1d(y, warn=True)\n"
     ]
    },
    {
     "name": "stdout",
     "output_type": "stream",
     "text": [
      "number of 0 in y_test\n",
      "[65051]\n",
      "number of 1 in y_test\n",
      "[2509]\n",
      "X_train shape before upsampling\n",
      "(157637, 248)\n",
      "Y_train shape before upsampling\n",
      "(157637, 1)\n",
      "Size of X_train after upsampling\n",
      "(303564, 248)\n",
      "Size of Y_train after upsampling\n",
      "(303564,)\n",
      "Model 1: Logistic Regression\n"
     ]
    },
    {
     "name": "stderr",
     "output_type": "stream",
     "text": [
      "C:\\Users\\User\\AppData\\Local\\conda\\conda\\envs\\UserEnv\\lib\\site-packages\\sklearn\\linear_model\\logistic.py:432: FutureWarning: Default solver will be changed to 'lbfgs' in 0.22. Specify a solver to silence this warning.\n",
      "  FutureWarning)\n"
     ]
    },
    {
     "name": "stdout",
     "output_type": "stream",
     "text": [
      "Train accuracy and test accuracy with Logistic Regression for --------New Crime Type_BURGLARY\n",
      "Train Accuracy\n",
      "0.9806898126708831\n",
      "Test Accuracy\n",
      "0.980683836589698\n",
      "Confusion Matrix\n",
      "[[63950  1101]\n",
      " [  204  2305]]\n",
      "Classification Report\n",
      "              precision    recall  f1-score   support\n",
      "\n",
      "           0       1.00      0.98      0.99     65051\n",
      "           1       0.68      0.92      0.78      2509\n",
      "\n",
      "    accuracy                           0.98     67560\n",
      "   macro avg       0.84      0.95      0.88     67560\n",
      "weighted avg       0.98      0.98      0.98     67560\n",
      "\n",
      "---------------------------------------------------------------------------------\n",
      "                                   New Crime Type_CRIMINAL TRESPASS                              \n",
      "---------------------------------------------------------------------------------\n"
     ]
    },
    {
     "name": "stderr",
     "output_type": "stream",
     "text": [
      "C:\\Users\\User\\AppData\\Local\\conda\\conda\\envs\\UserEnv\\lib\\site-packages\\sklearn\\utils\\validation.py:724: DataConversionWarning: A column-vector y was passed when a 1d array was expected. Please change the shape of y to (n_samples, ), for example using ravel().\n",
      "  y = column_or_1d(y, warn=True)\n"
     ]
    },
    {
     "name": "stdout",
     "output_type": "stream",
     "text": [
      "number of 0 in y_test\n",
      "[65743]\n",
      "number of 1 in y_test\n",
      "[1817]\n",
      "X_train shape before upsampling\n",
      "(157637, 248)\n",
      "Y_train shape before upsampling\n",
      "(157637, 1)\n",
      "Size of X_train after upsampling\n",
      "(306796, 248)\n",
      "Size of Y_train after upsampling\n",
      "(306796,)\n",
      "Model 1: Logistic Regression\n"
     ]
    },
    {
     "name": "stderr",
     "output_type": "stream",
     "text": [
      "C:\\Users\\User\\AppData\\Local\\conda\\conda\\envs\\UserEnv\\lib\\site-packages\\sklearn\\linear_model\\logistic.py:432: FutureWarning: Default solver will be changed to 'lbfgs' in 0.22. Specify a solver to silence this warning.\n",
      "  FutureWarning)\n"
     ]
    },
    {
     "name": "stdout",
     "output_type": "stream",
     "text": [
      "Train accuracy and test accuracy with Logistic Regression for --------New Crime Type_CRIMINAL TRESPASS\n",
      "Train Accuracy\n",
      "0.9710156879412828\n",
      "Test Accuracy\n",
      "0.969582593250444\n",
      "Confusion Matrix\n",
      "[[64209  1534]\n",
      " [  521  1296]]\n",
      "Classification Report\n",
      "              precision    recall  f1-score   support\n",
      "\n",
      "           0       0.99      0.98      0.98     65743\n",
      "           1       0.46      0.71      0.56      1817\n",
      "\n",
      "    accuracy                           0.97     67560\n",
      "   macro avg       0.72      0.84      0.77     67560\n",
      "weighted avg       0.98      0.97      0.97     67560\n",
      "\n",
      "---------------------------------------------------------------------------------\n",
      "                                   New Crime Type_MOTOR VEHICLE THEFT                              \n",
      "---------------------------------------------------------------------------------\n"
     ]
    },
    {
     "name": "stderr",
     "output_type": "stream",
     "text": [
      "C:\\Users\\User\\AppData\\Local\\conda\\conda\\envs\\UserEnv\\lib\\site-packages\\sklearn\\utils\\validation.py:724: DataConversionWarning: A column-vector y was passed when a 1d array was expected. Please change the shape of y to (n_samples, ), for example using ravel().\n",
      "  y = column_or_1d(y, warn=True)\n"
     ]
    },
    {
     "name": "stdout",
     "output_type": "stream",
     "text": [
      "number of 0 in y_test\n",
      "[65199]\n",
      "number of 1 in y_test\n",
      "[2361]\n",
      "X_train shape before upsampling\n",
      "(157637, 248)\n",
      "Y_train shape before upsampling\n",
      "(157637, 1)\n",
      "Size of X_train after upsampling\n",
      "(304258, 248)\n",
      "Size of Y_train after upsampling\n",
      "(304258,)\n",
      "Model 1: Logistic Regression\n"
     ]
    },
    {
     "name": "stderr",
     "output_type": "stream",
     "text": [
      "C:\\Users\\User\\AppData\\Local\\conda\\conda\\envs\\UserEnv\\lib\\site-packages\\sklearn\\linear_model\\logistic.py:432: FutureWarning: Default solver will be changed to 'lbfgs' in 0.22. Specify a solver to silence this warning.\n",
      "  FutureWarning)\n"
     ]
    },
    {
     "name": "stdout",
     "output_type": "stream",
     "text": [
      "Train accuracy and test accuracy with Logistic Regression for --------New Crime Type_MOTOR VEHICLE THEFT\n",
      "Train Accuracy\n",
      "0.9765664152451519\n",
      "Test Accuracy\n",
      "0.9756956779159266\n",
      "Confusion Matrix\n",
      "[[63917  1282]\n",
      " [  360  2001]]\n",
      "Classification Report\n",
      "              precision    recall  f1-score   support\n",
      "\n",
      "           0       0.99      0.98      0.99     65199\n",
      "           1       0.61      0.85      0.71      2361\n",
      "\n",
      "    accuracy                           0.98     67560\n",
      "   macro avg       0.80      0.91      0.85     67560\n",
      "weighted avg       0.98      0.98      0.98     67560\n",
      "\n",
      "---------------------------------------------------------------------------------\n",
      "                                   New Crime Type_ROBBERY                              \n",
      "---------------------------------------------------------------------------------\n"
     ]
    },
    {
     "name": "stderr",
     "output_type": "stream",
     "text": [
      "C:\\Users\\User\\AppData\\Local\\conda\\conda\\envs\\UserEnv\\lib\\site-packages\\sklearn\\utils\\validation.py:724: DataConversionWarning: A column-vector y was passed when a 1d array was expected. Please change the shape of y to (n_samples, ), for example using ravel().\n",
      "  y = column_or_1d(y, warn=True)\n"
     ]
    },
    {
     "name": "stdout",
     "output_type": "stream",
     "text": [
      "number of 0 in y_test\n",
      "[65482]\n",
      "number of 1 in y_test\n",
      "[2078]\n",
      "X_train shape before upsampling\n",
      "(157637, 248)\n",
      "Y_train shape before upsampling\n",
      "(157637, 1)\n",
      "Size of X_train after upsampling\n",
      "(305578, 248)\n",
      "Size of Y_train after upsampling\n",
      "(305578,)\n",
      "Model 1: Logistic Regression\n"
     ]
    },
    {
     "name": "stderr",
     "output_type": "stream",
     "text": [
      "C:\\Users\\User\\AppData\\Local\\conda\\conda\\envs\\UserEnv\\lib\\site-packages\\sklearn\\linear_model\\logistic.py:432: FutureWarning: Default solver will be changed to 'lbfgs' in 0.22. Specify a solver to silence this warning.\n",
      "  FutureWarning)\n"
     ]
    },
    {
     "name": "stdout",
     "output_type": "stream",
     "text": [
      "Train accuracy and test accuracy with Logistic Regression for --------New Crime Type_ROBBERY\n",
      "Train Accuracy\n",
      "0.95775737929547\n",
      "Test Accuracy\n",
      "0.956364712847839\n",
      "Confusion Matrix\n",
      "[[62985  2497]\n",
      " [  451  1627]]\n",
      "Classification Report\n",
      "              precision    recall  f1-score   support\n",
      "\n",
      "           0       0.99      0.96      0.98     65482\n",
      "           1       0.39      0.78      0.52      2078\n",
      "\n",
      "    accuracy                           0.96     67560\n",
      "   macro avg       0.69      0.87      0.75     67560\n",
      "weighted avg       0.97      0.96      0.96     67560\n",
      "\n",
      "---------------------------------------------------------------------------------\n",
      "                                   New Crime Type_WEAPONS VIOLATION                              \n",
      "---------------------------------------------------------------------------------\n"
     ]
    },
    {
     "name": "stderr",
     "output_type": "stream",
     "text": [
      "C:\\Users\\User\\AppData\\Local\\conda\\conda\\envs\\UserEnv\\lib\\site-packages\\sklearn\\utils\\validation.py:724: DataConversionWarning: A column-vector y was passed when a 1d array was expected. Please change the shape of y to (n_samples, ), for example using ravel().\n",
      "  y = column_or_1d(y, warn=True)\n"
     ]
    },
    {
     "name": "stdout",
     "output_type": "stream",
     "text": [
      "number of 0 in y_test\n",
      "[65889]\n",
      "number of 1 in y_test\n",
      "[1671]\n",
      "X_train shape before upsampling\n",
      "(157637, 248)\n",
      "Y_train shape before upsampling\n",
      "(157637, 1)\n",
      "Size of X_train after upsampling\n",
      "(307478, 248)\n",
      "Size of Y_train after upsampling\n",
      "(307478,)\n",
      "Model 1: Logistic Regression\n"
     ]
    },
    {
     "name": "stderr",
     "output_type": "stream",
     "text": [
      "C:\\Users\\User\\AppData\\Local\\conda\\conda\\envs\\UserEnv\\lib\\site-packages\\sklearn\\linear_model\\logistic.py:432: FutureWarning: Default solver will be changed to 'lbfgs' in 0.22. Specify a solver to silence this warning.\n",
      "  FutureWarning)\n"
     ]
    },
    {
     "name": "stdout",
     "output_type": "stream",
     "text": [
      "Train accuracy and test accuracy with Logistic Regression for --------New Crime Type_WEAPONS VIOLATION\n",
      "Train Accuracy\n",
      "0.976319011399608\n",
      "Test Accuracy\n",
      "0.975902901124926\n",
      "Confusion Matrix\n",
      "[[64680  1209]\n",
      " [  419  1252]]\n",
      "Classification Report\n",
      "              precision    recall  f1-score   support\n",
      "\n",
      "           0       0.99      0.98      0.99     65889\n",
      "           1       0.51      0.75      0.61      1671\n",
      "\n",
      "    accuracy                           0.98     67560\n",
      "   macro avg       0.75      0.87      0.80     67560\n",
      "weighted avg       0.98      0.98      0.98     67560\n",
      "\n"
     ]
    }
   ],
   "source": [
    "for crime in Test_crime_2:\n",
    "    Test_crime_2 = ['New Crime Type_BURGLARY','New Crime Type_CRIMINAL TRESPASS',\n",
    "             'New Crime Type_MOTOR VEHICLE THEFT',\n",
    "             'New Crime Type_ROBBERY','New Crime Type_WEAPONS VIOLATION']\n",
    "    print(\"---------------------------------------------------------------------------------\")\n",
    "    print(\"                                   {}                              \".format(crime))\n",
    "    print(\"---------------------------------------------------------------------------------\")    \n",
    "    from sklearn.model_selection import train_test_split\n",
    "    from sklearn.linear_model import LogisticRegression\n",
    "    from sklearn.metrics import confusion_matrix, classification_report    \n",
    "    from imblearn.over_sampling import SMOTE\n",
    "    from sklearn.svm import LinearSVC\n",
    "    sm = SMOTE(kind='borderline1')    \n",
    "    Test_crime_2.remove(crime)\n",
    "    dummydf_part2 = dummydf_part2.dropna()\n",
    "    dummydf_part2_new = dummydf_part2.drop(Test_crime_2, axis = 1)    \n",
    "    X = dummydf_part2_new.drop(crime, axis = 1)\n",
    "    #X1 = np.array(dummydf_part2_new.drop([crime],1))\n",
    "    X = X.values\n",
    "    Y = dummydf_part2_new[crime]\n",
    "    #Y1 = np.array(dummydf_part2_new[crime])\n",
    "    Y = Y.values.reshape(-1,1)\n",
    "    #X = X[0:50000,:]\n",
    "    #Y = Y[0:50000,:]\n",
    "    X_train, X_test, y_train, y_test = train_test_split(X, Y, train_size = 0.7, random_state = 0, stratify = Y)    \n",
    "    X_resampled, y_resampled = sm.fit_sample(X_train, y_train)\n",
    "    #X_train_smote, X_test_smote, y_train_smote, y_test_smote = train_test_split(X_resampled, y_resampled)\n",
    "    #print(X_train_smote.shape)\n",
    "    #print(X_test_smote.shape)\n",
    "    #print(y_train_smote.shape)\n",
    "    #print(y_test_smote.shape)\n",
    "    \n",
    "    print(\"number of 0 in y_test\")\n",
    "    print(sum(y_test==0))\n",
    "    \n",
    "    print(\"number of 1 in y_test\")\n",
    "    print(sum(y_test==1))\n",
    "    print(\"X_train shape before upsampling\")\n",
    "    print(X_train.shape)\n",
    "    print(\"Y_train shape before upsampling\")\n",
    "    print(y_train.shape)\n",
    "    print(\"Size of X_train after upsampling\")\n",
    "    print(X_resampled.shape)\n",
    "    print(\"Size of Y_train after upsampling\")\n",
    "    print(y_resampled.shape)    \n",
    "    print(\"Model 1: Logistic Regression\")\n",
    "    LogReg2 = LogisticRegression(C=1000000, class_weight={1:3, 0:1},penalty = 'l2')\n",
    "    #LogReg2 = LinearSVC(C=100000)\n",
    "    LogReg2.fit(X_resampled, y_resampled)    \n",
    "    train_acc = LogReg2.score(X_train, y_train)\n",
    "    test_acc = LogReg2.score(X_test, y_test)\n",
    "    print(\"Train accuracy and test accuracy with Logistic Regression for --------{}\".format(crime))\n",
    "    print(\"Train Accuracy\")\n",
    "    print(train_acc)\n",
    "    print(\"Test Accuracy\")\n",
    "    print(test_acc)\n",
    "    y_pred2 = LogReg2.predict(X_test)\n",
    "    confmat2 = confusion_matrix(y_test, y_pred2)\n",
    "    print(\"Confusion Matrix\")\n",
    "    print(confmat2)\n",
    "    clfreport2 = classification_report(y_test, y_pred2)\n",
    "    print(\"Classification Report\")\n",
    "    print(clfreport2)"
   ]
  },
  {
   "cell_type": "markdown",
   "metadata": {},
   "source": [
    "# Grid Logistic Regression for Part 2"
   ]
  },
  {
   "cell_type": "code",
   "execution_count": null,
   "metadata": {},
   "outputs": [],
   "source": [
    "Test_crime_2 = ['New Crime Type_BURGLARY','New Crime Type_CRIMINAL TRESPASS',\n",
    "             'New Crime Type_MOTOR VEHICLE THEFT',\n",
    "             'New Crime Type_ROBBERY','New Crime Type_WEAPONS VIOLATION']"
   ]
  },
  {
   "cell_type": "code",
   "execution_count": null,
   "metadata": {
    "scrolled": true
   },
   "outputs": [],
   "source": [
    "for crime in Test_crime_2:\n",
    "    Test_crime_2 = ['New Crime Type_BURGLARY','New Crime Type_CRIMINAL TRESPASS',\n",
    "             'New Crime Type_MOTOR VEHICLE THEFT',\n",
    "             'New Crime Type_ROBBERY','New Crime Type_WEAPONS VIOLATION']\n",
    "    print(\"---------------------------------------------------------------------------------\")\n",
    "    print(\"                                   {}                              \".format(crime))\n",
    "    print(\"---------------------------------------------------------------------------------\")    \n",
    "    from sklearn.model_selection import train_test_split\n",
    "    from sklearn.linear_model import LogisticRegression\n",
    "    from sklearn.metrics import confusion_matrix, classification_report, recall_score    \n",
    "    from imblearn.over_sampling import SMOTE\n",
    "    from sklearn.svm import LinearSVC\n",
    "    from sklearn.model_selection import GridSearchCV\n",
    "    \n",
    "    \n",
    "    sm = SMOTE(kind='borderline1')    \n",
    "    Test_crime_2.remove(crime)\n",
    "    dummydf_part2 = dummydf_part2.dropna()\n",
    "    dummydf_part2_new = dummydf_part2.drop(Test_crime_2, axis = 1)    \n",
    "    X = dummydf_part2_new.drop(crime, axis = 1)\n",
    "    #X1 = np.array(dummydf_part2_new.drop([crime],1))\n",
    "    X = X.values\n",
    "    Y = dummydf_part2_new[crime]\n",
    "    #Y1 = np.array(dummydf_part2_new[crime])\n",
    "    Y = Y.values.reshape(-1,1)\n",
    "    X = X[0:500,:]\n",
    "    Y = Y[0:500,:]\n",
    "    X_train, X_test, y_train, y_test = train_test_split(X, Y, train_size = 0.7, random_state = 0, stratify = Y)    \n",
    "    X_resampled, y_resampled = sm.fit_sample(X_train, y_train)\n",
    "    #X_train_smote, X_test_smote, y_train_smote, y_test_smote = train_test_split(X_resampled, y_resampled)\n",
    "    #print(X_train_smote.shape)\n",
    "    #print(X_test_smote.shape)\n",
    "    #print(y_train_smote.shape)\n",
    "    #print(y_test_smote.shape)\n",
    "    \n",
    "    LogReg2 = LogisticRegression()\n",
    "    c_space = np.logspace(-5, 8, 15)\n",
    "    class_weights = {[{1: w} for w in [1, 2, 4, 6, 10]], [{0: w} for w in [1, 2, 4, 6, 10]]}\n",
    "    #{{0: w} for w in [.1,.2,.3,.5,1,1.5,2,2.5,3,3.5,4,4.5,5], \n",
    "                     #{1:w} for w in[.1,.2,.3,.5,1,1.5,2,2.5,3,3.5,4,4.5,5]}\n",
    "    \n",
    "    penaltys = ['l1','l2']\n",
    "    param_grid = {'C':c_space, 'class_weight':class_weights, 'penalty':penaltys}\n",
    "    \n",
    "    grid = GridSearchCV(estimator=LogReg2, param_grid=param_grid, scoring='recall', cv = 5)\n",
    "    \n",
    "    \n",
    "    print(\"number of 0 in y_test\")\n",
    "    print(sum(y_test==0))\n",
    "    \n",
    "    print(\"number of 1 in y_test\")\n",
    "    print(sum(y_test==1))\n",
    "    print(\"X_train shape before upsampling\")\n",
    "    print(X_train.shape)\n",
    "    print(\"Y_train shape before upsampling\")\n",
    "    print(y_train.shape)\n",
    "    print(\"Size of X_train after upsampling\")\n",
    "    print(X_resampled.shape)\n",
    "    print(\"Size of Y_train after upsampling\")\n",
    "    print(y_resampled.shape)    \n",
    "    print(\"Model 1: Logistic Regression\")\n",
    "    #C = [1,10,100,1000,10000,100000]\n",
    "    \n",
    "    #LogReg2 = LinearSVC(C=100000)\n",
    "    grid.fit(X_resampled, y_resampled)    \n",
    "    train_acc = grid.score(X_train, y_train)\n",
    "    test_acc = grid.score(X_test, y_test)\n",
    "    print(\"Train accuracy and test accuracy with Logistic Regression for --------{}\".format(crime))\n",
    "    print(\"Train Accuracy\")\n",
    "    print(train_acc)\n",
    "    print(\"Test Accuracy\")\n",
    "    print(test_acc)\n",
    "    y_pred2 = grid.predict(X_test)\n",
    "    confmat2 = confusion_matrix(y_test, y_pred2)\n",
    "    print(\"Confusion Matrix\")\n",
    "    print(confmat2)\n",
    "    clfreport2 = classification_report(y_test, y_pred2)\n",
    "    print(\"Classification Report\")\n",
    "    print(clfreport2)\n",
    "    print(grid.best_params_)\n",
    "    print(grid.best_score)"
   ]
  },
  {
   "cell_type": "code",
   "execution_count": 49,
   "metadata": {},
   "outputs": [],
   "source": [
    "Test_crime = ['New Crime Type_BURGLARY','New Crime Type_CRIMINAL TRESPASS',\n",
    "             'New Crime Type_MOTOR VEHICLE THEFT',\n",
    "             'New Crime Type_ROBBERY','New Crime Type_WEAPONS VIOLATION']"
   ]
  },
  {
   "cell_type": "markdown",
   "metadata": {},
   "source": [
    "# KNN for Part 2"
   ]
  },
  {
   "cell_type": "code",
   "execution_count": 50,
   "metadata": {
    "scrolled": false
   },
   "outputs": [
    {
     "name": "stdout",
     "output_type": "stream",
     "text": [
      "---------------------------------------------------------------------------------\n",
      "                                   New Crime Type_BURGLARY                              \n",
      "---------------------------------------------------------------------------------\n",
      "number of 0 in ytest1\n",
      "[7329]\n",
      "number of 1 in ytest1\n",
      "[171]\n",
      "(17500, 247)\n",
      "(17500, 1)\n",
      "Model: K-Nearest Neighbor (KNN)\n",
      "(34204, 247)\n",
      "(34204,)\n"
     ]
    },
    {
     "name": "stderr",
     "output_type": "stream",
     "text": [
      "C:\\Users\\User\\AppData\\Local\\conda\\conda\\envs\\UserEnv\\lib\\site-packages\\sklearn\\utils\\validation.py:724: DataConversionWarning: A column-vector y was passed when a 1d array was expected. Please change the shape of y to (n_samples, ), for example using ravel().\n",
      "  y = column_or_1d(y, warn=True)\n"
     ]
    },
    {
     "name": "stdout",
     "output_type": "stream",
     "text": [
      "Train accuracy and test accuracy with KNN for --------New Crime Type_BURGLARY\n",
      "Train Accuracy\n",
      "0.9806857142857143\n",
      "Test Accuracy\n",
      "0.9694666666666667\n",
      "Confusion Matrix\n",
      "[[7259   70]\n",
      " [ 159   12]]\n",
      "Classification Report\n",
      "              precision    recall  f1-score   support\n",
      "\n",
      "           0       0.98      0.99      0.98      7329\n",
      "           1       0.15      0.07      0.09       171\n",
      "\n",
      "    accuracy                           0.97      7500\n",
      "   macro avg       0.56      0.53      0.54      7500\n",
      "weighted avg       0.96      0.97      0.96      7500\n",
      "\n",
      "---------------------------------------------------------------------------------\n",
      "                                   New Crime Type_CRIMINAL TRESPASS                              \n",
      "---------------------------------------------------------------------------------\n",
      "number of 0 in ytest1\n",
      "[7292]\n",
      "number of 1 in ytest1\n",
      "[208]\n",
      "(17500, 247)\n",
      "(17500, 1)\n",
      "Model: K-Nearest Neighbor (KNN)\n"
     ]
    },
    {
     "name": "stderr",
     "output_type": "stream",
     "text": [
      "C:\\Users\\User\\AppData\\Local\\conda\\conda\\envs\\UserEnv\\lib\\site-packages\\sklearn\\utils\\validation.py:724: DataConversionWarning: A column-vector y was passed when a 1d array was expected. Please change the shape of y to (n_samples, ), for example using ravel().\n",
      "  y = column_or_1d(y, warn=True)\n"
     ]
    },
    {
     "name": "stdout",
     "output_type": "stream",
     "text": [
      "(34026, 247)\n",
      "(34026,)\n",
      "Train accuracy and test accuracy with KNN for --------New Crime Type_CRIMINAL TRESPASS\n",
      "Train Accuracy\n",
      "0.9766285714285714\n",
      "Test Accuracy\n",
      "0.9646666666666667\n",
      "Confusion Matrix\n",
      "[[7210   82]\n",
      " [ 183   25]]\n",
      "Classification Report\n",
      "              precision    recall  f1-score   support\n",
      "\n",
      "           0       0.98      0.99      0.98      7292\n",
      "           1       0.23      0.12      0.16       208\n",
      "\n",
      "    accuracy                           0.96      7500\n",
      "   macro avg       0.60      0.55      0.57      7500\n",
      "weighted avg       0.95      0.96      0.96      7500\n",
      "\n",
      "---------------------------------------------------------------------------------\n",
      "                                   New Crime Type_MOTOR VEHICLE THEFT                              \n",
      "---------------------------------------------------------------------------------\n",
      "number of 0 in ytest1\n",
      "[7244]\n",
      "number of 1 in ytest1\n",
      "[256]\n",
      "(17500, 247)\n",
      "(17500, 1)\n",
      "Model: K-Nearest Neighbor (KNN)\n"
     ]
    },
    {
     "name": "stderr",
     "output_type": "stream",
     "text": [
      "C:\\Users\\User\\AppData\\Local\\conda\\conda\\envs\\UserEnv\\lib\\site-packages\\sklearn\\utils\\validation.py:724: DataConversionWarning: A column-vector y was passed when a 1d array was expected. Please change the shape of y to (n_samples, ), for example using ravel().\n",
      "  y = column_or_1d(y, warn=True)\n"
     ]
    },
    {
     "name": "stdout",
     "output_type": "stream",
     "text": [
      "(33808, 247)\n",
      "(33808,)\n",
      "Train accuracy and test accuracy with KNN for --------New Crime Type_MOTOR VEHICLE THEFT\n",
      "Train Accuracy\n",
      "0.9705142857142857\n",
      "Test Accuracy\n",
      "0.9550666666666666\n",
      "Confusion Matrix\n",
      "[[7133  111]\n",
      " [ 226   30]]\n",
      "Classification Report\n",
      "              precision    recall  f1-score   support\n",
      "\n",
      "           0       0.97      0.98      0.98      7244\n",
      "           1       0.21      0.12      0.15       256\n",
      "\n",
      "    accuracy                           0.96      7500\n",
      "   macro avg       0.59      0.55      0.56      7500\n",
      "weighted avg       0.94      0.96      0.95      7500\n",
      "\n",
      "---------------------------------------------------------------------------------\n",
      "                                   New Crime Type_ROBBERY                              \n",
      "---------------------------------------------------------------------------------\n",
      "number of 0 in ytest1\n",
      "[7232]\n",
      "number of 1 in ytest1\n",
      "[268]\n",
      "(17500, 247)\n",
      "(17500, 1)\n",
      "Model: K-Nearest Neighbor (KNN)\n"
     ]
    },
    {
     "name": "stderr",
     "output_type": "stream",
     "text": [
      "C:\\Users\\User\\AppData\\Local\\conda\\conda\\envs\\UserEnv\\lib\\site-packages\\sklearn\\utils\\validation.py:724: DataConversionWarning: A column-vector y was passed when a 1d array was expected. Please change the shape of y to (n_samples, ), for example using ravel().\n",
      "  y = column_or_1d(y, warn=True)\n"
     ]
    },
    {
     "name": "stdout",
     "output_type": "stream",
     "text": [
      "(33752, 247)\n",
      "(33752,)\n",
      "Train accuracy and test accuracy with KNN for --------New Crime Type_ROBBERY\n",
      "Train Accuracy\n",
      "0.9694857142857143\n",
      "Test Accuracy\n",
      "0.9548\n",
      "Confusion Matrix\n",
      "[[7139   93]\n",
      " [ 246   22]]\n",
      "Classification Report\n",
      "              precision    recall  f1-score   support\n",
      "\n",
      "           0       0.97      0.99      0.98      7232\n",
      "           1       0.19      0.08      0.11       268\n",
      "\n",
      "    accuracy                           0.95      7500\n",
      "   macro avg       0.58      0.53      0.55      7500\n",
      "weighted avg       0.94      0.95      0.95      7500\n",
      "\n",
      "---------------------------------------------------------------------------------\n",
      "                                   New Crime Type_WEAPONS VIOLATION                              \n",
      "---------------------------------------------------------------------------------\n",
      "number of 0 in ytest1\n",
      "[7357]\n",
      "number of 1 in ytest1\n",
      "[143]\n",
      "(17500, 247)\n",
      "(17500, 1)\n",
      "Model: K-Nearest Neighbor (KNN)\n",
      "(34332, 247)\n",
      "(34332,)\n"
     ]
    },
    {
     "name": "stderr",
     "output_type": "stream",
     "text": [
      "C:\\Users\\User\\AppData\\Local\\conda\\conda\\envs\\UserEnv\\lib\\site-packages\\sklearn\\utils\\validation.py:724: DataConversionWarning: A column-vector y was passed when a 1d array was expected. Please change the shape of y to (n_samples, ), for example using ravel().\n",
      "  y = column_or_1d(y, warn=True)\n"
     ]
    },
    {
     "name": "stdout",
     "output_type": "stream",
     "text": [
      "Train accuracy and test accuracy with KNN for --------New Crime Type_WEAPONS VIOLATION\n",
      "Train Accuracy\n",
      "0.9814285714285714\n",
      "Test Accuracy\n",
      "0.9733333333333334\n",
      "Confusion Matrix\n",
      "[[7284   73]\n",
      " [ 127   16]]\n",
      "Classification Report\n",
      "              precision    recall  f1-score   support\n",
      "\n",
      "           0       0.98      0.99      0.99      7357\n",
      "           1       0.18      0.11      0.14       143\n",
      "\n",
      "    accuracy                           0.97      7500\n",
      "   macro avg       0.58      0.55      0.56      7500\n",
      "weighted avg       0.97      0.97      0.97      7500\n",
      "\n"
     ]
    }
   ],
   "source": [
    "for crime in Test_crime:\n",
    "    Test_crime = ['New Crime Type_BURGLARY','New Crime Type_CRIMINAL TRESPASS',\n",
    "             'New Crime Type_MOTOR VEHICLE THEFT',\n",
    "             'New Crime Type_ROBBERY','New Crime Type_WEAPONS VIOLATION']\n",
    "    print(\"---------------------------------------------------------------------------------\")\n",
    "    print(\"                                   {}                              \".format(crime))\n",
    "    print(\"---------------------------------------------------------------------------------\")\n",
    "    Test_crime.remove(crime)\n",
    "    dummydf_part2 = dummydf_part2.dropna()\n",
    "    dummydf_part2_new = dummydf_part2.drop(Test_crime, axis = 1)\n",
    "    X1 = dummydf_part2_new.drop(crime, axis = 1)\n",
    "    X1 = X1.values\n",
    "    Y1 = dummydf_part2_new[crime]\n",
    "    Y1 = Y1.values.reshape(-1,1)\n",
    "    #print(X1.shape)\n",
    "    #print(Y1.shape)\n",
    "    X1 = X1[0:25000,:]\n",
    "    Y1 = Y1[0:25000,:]\n",
    "    \n",
    "    from sklearn.model_selection import train_test_split\n",
    "    from sklearn.neighbors import KNeighborsClassifier\n",
    "    from sklearn.metrics import confusion_matrix, classification_report\n",
    "    from imblearn.over_sampling import SMOTE\n",
    "    X_train1, X_test1, y_train1, y_test1 = train_test_split(X1, Y1, test_size = 0.3, random_state = 0, stratify = Y1)\n",
    "    \n",
    "    print(\"number of 0 in ytest1\")\n",
    "    print(sum(y_test1==0))\n",
    "    \n",
    "    print(\"number of 1 in ytest1\")\n",
    "    print(sum(y_test1==1))\n",
    "    \n",
    "    print(X_train1.shape)\n",
    "    print(y_train1.shape)\n",
    "    \n",
    "    \n",
    "    \n",
    "    sm1 = SMOTE(random_state = 0) \n",
    "    print(\"Model: K-Nearest Neighbor (KNN)\")\n",
    "    X1_resampled, y1_resampled = sm1.fit_sample(X_train1, y_train1)\n",
    "    \n",
    "    print(X1_resampled.shape)\n",
    "    print(y1_resampled.shape)\n",
    "    \n",
    "    \n",
    "    knn2 = KNeighborsClassifier(n_neighbors=3)\n",
    "    knn2.fit(X1_resampled, y1_resampled)\n",
    "    train_acc = knn2.score(X_train1, y_train1)\n",
    "    test_acc = knn2.score(X_test1, y_test1)\n",
    "    print(\"Train accuracy and test accuracy with KNN for --------{}\".format(crime))\n",
    "    print(\"Train Accuracy\")\n",
    "    print(train_acc)\n",
    "    print(\"Test Accuracy\")\n",
    "    print(test_acc)\n",
    "    y_pred = knn2.predict(X_test1)\n",
    "    confmat = confusion_matrix(y_test1,y_pred)\n",
    "    print(\"Confusion Matrix\")\n",
    "    print(confmat)\n",
    "    clfreport = classification_report(y_test1,y_pred)\n",
    "    print(\"Classification Report\")\n",
    "    print(clfreport)   "
   ]
  },
  {
   "cell_type": "markdown",
   "metadata": {},
   "source": []
  },
  {
   "cell_type": "markdown",
   "metadata": {},
   "source": []
  },
  {
   "cell_type": "code",
   "execution_count": null,
   "metadata": {},
   "outputs": [],
   "source": []
  },
  {
   "cell_type": "code",
   "execution_count": null,
   "metadata": {},
   "outputs": [],
   "source": []
  },
  {
   "cell_type": "markdown",
   "metadata": {},
   "source": [
    "# Model 3: Linear SVM for part 2"
   ]
  },
  {
   "cell_type": "code",
   "execution_count": 91,
   "metadata": {},
   "outputs": [],
   "source": [
    "Test_crime_3 = ['New Crime Type_BURGLARY','New Crime Type_CRIMINAL TRESPASS',\n",
    "             'New Crime Type_MOTOR VEHICLE THEFT',\n",
    "             'New Crime Type_ROBBERY','New Crime Type_WEAPONS VIOLATION']"
   ]
  },
  {
   "cell_type": "code",
   "execution_count": 92,
   "metadata": {},
   "outputs": [
    {
     "name": "stdout",
     "output_type": "stream",
     "text": [
      "---------------------------------------------------------------------------------\n",
      "                                   New Crime Type_BURGLARY                              \n",
      "---------------------------------------------------------------------------------\n"
     ]
    },
    {
     "name": "stderr",
     "output_type": "stream",
     "text": [
      "C:\\Users\\User\\AppData\\Local\\conda\\conda\\envs\\UserEnv\\lib\\site-packages\\sklearn\\utils\\validation.py:724: DataConversionWarning: A column-vector y was passed when a 1d array was expected. Please change the shape of y to (n_samples, ), for example using ravel().\n",
      "  y = column_or_1d(y, warn=True)\n"
     ]
    },
    {
     "name": "stdout",
     "output_type": "stream",
     "text": [
      "number of 0 in y_test\n",
      "[65051]\n",
      "number of 1 in y_test\n",
      "[2509]\n",
      "X_train shape before upsampling\n",
      "(157637, 247)\n",
      "Y_train shape before upsampling\n",
      "(157637, 1)\n",
      "Size of X_train after upsampling\n",
      "(303564, 247)\n",
      "Size of Y_train after upsampling\n",
      "(303564,)\n",
      "Model : Linear SVM\n"
     ]
    },
    {
     "name": "stderr",
     "output_type": "stream",
     "text": [
      "C:\\Users\\User\\AppData\\Local\\conda\\conda\\envs\\UserEnv\\lib\\site-packages\\sklearn\\svm\\base.py:929: ConvergenceWarning: Liblinear failed to converge, increase the number of iterations.\n",
      "  \"the number of iterations.\", ConvergenceWarning)\n"
     ]
    },
    {
     "name": "stdout",
     "output_type": "stream",
     "text": [
      "Train accuracy and test accuracy with Linear SVM for --------New Crime Type_BURGLARY\n",
      "Train Accuracy\n",
      "0.9062973794223438\n",
      "Test Accuracy\n",
      "0.9032859680284192\n",
      "Confusion Matrix\n",
      "[[59605  5446]\n",
      " [ 1088  1421]]\n",
      "Classification Report\n",
      "              precision    recall  f1-score   support\n",
      "\n",
      "           0       0.98      0.92      0.95     65051\n",
      "           1       0.21      0.57      0.30      2509\n",
      "\n",
      "    accuracy                           0.90     67560\n",
      "   macro avg       0.59      0.74      0.63     67560\n",
      "weighted avg       0.95      0.90      0.92     67560\n",
      "\n",
      "---------------------------------------------------------------------------------\n",
      "                                   New Crime Type_CRIMINAL TRESPASS                              \n",
      "---------------------------------------------------------------------------------\n"
     ]
    },
    {
     "name": "stderr",
     "output_type": "stream",
     "text": [
      "C:\\Users\\User\\AppData\\Local\\conda\\conda\\envs\\UserEnv\\lib\\site-packages\\sklearn\\utils\\validation.py:724: DataConversionWarning: A column-vector y was passed when a 1d array was expected. Please change the shape of y to (n_samples, ), for example using ravel().\n",
      "  y = column_or_1d(y, warn=True)\n"
     ]
    },
    {
     "name": "stdout",
     "output_type": "stream",
     "text": [
      "number of 0 in y_test\n",
      "[65743]\n",
      "number of 1 in y_test\n",
      "[1817]\n",
      "X_train shape before upsampling\n",
      "(157637, 247)\n",
      "Y_train shape before upsampling\n",
      "(157637, 1)\n",
      "Size of X_train after upsampling\n",
      "(306796, 247)\n",
      "Size of Y_train after upsampling\n",
      "(306796,)\n",
      "Model : Linear SVM\n"
     ]
    },
    {
     "name": "stderr",
     "output_type": "stream",
     "text": [
      "C:\\Users\\User\\AppData\\Local\\conda\\conda\\envs\\UserEnv\\lib\\site-packages\\sklearn\\svm\\base.py:929: ConvergenceWarning: Liblinear failed to converge, increase the number of iterations.\n",
      "  \"the number of iterations.\", ConvergenceWarning)\n"
     ]
    },
    {
     "name": "stdout",
     "output_type": "stream",
     "text": [
      "Train accuracy and test accuracy with Linear SVM for --------New Crime Type_CRIMINAL TRESPASS\n",
      "Train Accuracy\n",
      "0.9667654167486059\n",
      "Test Accuracy\n",
      "0.9659117821195974\n",
      "Confusion Matrix\n",
      "[[64942   801]\n",
      " [ 1502   315]]\n",
      "Classification Report\n",
      "              precision    recall  f1-score   support\n",
      "\n",
      "           0       0.98      0.99      0.98     65743\n",
      "           1       0.28      0.17      0.21      1817\n",
      "\n",
      "    accuracy                           0.97     67560\n",
      "   macro avg       0.63      0.58      0.60     67560\n",
      "weighted avg       0.96      0.97      0.96     67560\n",
      "\n",
      "---------------------------------------------------------------------------------\n",
      "                                   New Crime Type_MOTOR VEHICLE THEFT                              \n",
      "---------------------------------------------------------------------------------\n"
     ]
    },
    {
     "name": "stderr",
     "output_type": "stream",
     "text": [
      "C:\\Users\\User\\AppData\\Local\\conda\\conda\\envs\\UserEnv\\lib\\site-packages\\sklearn\\utils\\validation.py:724: DataConversionWarning: A column-vector y was passed when a 1d array was expected. Please change the shape of y to (n_samples, ), for example using ravel().\n",
      "  y = column_or_1d(y, warn=True)\n"
     ]
    },
    {
     "name": "stdout",
     "output_type": "stream",
     "text": [
      "number of 0 in y_test\n",
      "[65199]\n",
      "number of 1 in y_test\n",
      "[2361]\n",
      "X_train shape before upsampling\n",
      "(157637, 247)\n",
      "Y_train shape before upsampling\n",
      "(157637, 1)\n",
      "Size of X_train after upsampling\n",
      "(304258, 247)\n",
      "Size of Y_train after upsampling\n",
      "(304258,)\n",
      "Model : Linear SVM\n"
     ]
    },
    {
     "name": "stderr",
     "output_type": "stream",
     "text": [
      "C:\\Users\\User\\AppData\\Local\\conda\\conda\\envs\\UserEnv\\lib\\site-packages\\sklearn\\svm\\base.py:929: ConvergenceWarning: Liblinear failed to converge, increase the number of iterations.\n",
      "  \"the number of iterations.\", ConvergenceWarning)\n"
     ]
    },
    {
     "name": "stdout",
     "output_type": "stream",
     "text": [
      "Train accuracy and test accuracy with Linear SVM for --------New Crime Type_MOTOR VEHICLE THEFT\n",
      "Train Accuracy\n",
      "0.8670616669944239\n",
      "Test Accuracy\n",
      "0.8669478981645944\n",
      "Confusion Matrix\n",
      "[[56959  8240]\n",
      " [  749  1612]]\n",
      "Classification Report\n",
      "              precision    recall  f1-score   support\n",
      "\n",
      "           0       0.99      0.87      0.93     65199\n",
      "           1       0.16      0.68      0.26      2361\n",
      "\n",
      "    accuracy                           0.87     67560\n",
      "   macro avg       0.58      0.78      0.60     67560\n",
      "weighted avg       0.96      0.87      0.90     67560\n",
      "\n",
      "---------------------------------------------------------------------------------\n",
      "                                   New Crime Type_ROBBERY                              \n",
      "---------------------------------------------------------------------------------\n"
     ]
    },
    {
     "name": "stderr",
     "output_type": "stream",
     "text": [
      "C:\\Users\\User\\AppData\\Local\\conda\\conda\\envs\\UserEnv\\lib\\site-packages\\sklearn\\utils\\validation.py:724: DataConversionWarning: A column-vector y was passed when a 1d array was expected. Please change the shape of y to (n_samples, ), for example using ravel().\n",
      "  y = column_or_1d(y, warn=True)\n"
     ]
    },
    {
     "name": "stdout",
     "output_type": "stream",
     "text": [
      "number of 0 in y_test\n",
      "[65482]\n",
      "number of 1 in y_test\n",
      "[2078]\n",
      "X_train shape before upsampling\n",
      "(157637, 247)\n",
      "Y_train shape before upsampling\n",
      "(157637, 1)\n",
      "Size of X_train after upsampling\n",
      "(305578, 247)\n",
      "Size of Y_train after upsampling\n",
      "(305578,)\n",
      "Model : Linear SVM\n"
     ]
    },
    {
     "name": "stderr",
     "output_type": "stream",
     "text": [
      "C:\\Users\\User\\AppData\\Local\\conda\\conda\\envs\\UserEnv\\lib\\site-packages\\sklearn\\svm\\base.py:929: ConvergenceWarning: Liblinear failed to converge, increase the number of iterations.\n",
      "  \"the number of iterations.\", ConvergenceWarning)\n"
     ]
    },
    {
     "name": "stdout",
     "output_type": "stream",
     "text": [
      "Train accuracy and test accuracy with Linear SVM for --------New Crime Type_ROBBERY\n",
      "Train Accuracy\n",
      "0.9495613339507857\n",
      "Test Accuracy\n",
      "0.9499259917110716\n",
      "Confusion Matrix\n",
      "[[63607  1875]\n",
      " [ 1508   570]]\n",
      "Classification Report\n",
      "              precision    recall  f1-score   support\n",
      "\n",
      "           0       0.98      0.97      0.97     65482\n",
      "           1       0.23      0.27      0.25      2078\n",
      "\n",
      "    accuracy                           0.95     67560\n",
      "   macro avg       0.60      0.62      0.61     67560\n",
      "weighted avg       0.95      0.95      0.95     67560\n",
      "\n",
      "---------------------------------------------------------------------------------\n",
      "                                   New Crime Type_WEAPONS VIOLATION                              \n",
      "---------------------------------------------------------------------------------\n"
     ]
    },
    {
     "name": "stderr",
     "output_type": "stream",
     "text": [
      "C:\\Users\\User\\AppData\\Local\\conda\\conda\\envs\\UserEnv\\lib\\site-packages\\sklearn\\utils\\validation.py:724: DataConversionWarning: A column-vector y was passed when a 1d array was expected. Please change the shape of y to (n_samples, ), for example using ravel().\n",
      "  y = column_or_1d(y, warn=True)\n"
     ]
    },
    {
     "name": "stdout",
     "output_type": "stream",
     "text": [
      "number of 0 in y_test\n",
      "[65889]\n",
      "number of 1 in y_test\n",
      "[1671]\n",
      "X_train shape before upsampling\n",
      "(157637, 247)\n",
      "Y_train shape before upsampling\n",
      "(157637, 1)\n",
      "Size of X_train after upsampling\n",
      "(307478, 247)\n",
      "Size of Y_train after upsampling\n",
      "(307478,)\n",
      "Model : Linear SVM\n"
     ]
    },
    {
     "name": "stderr",
     "output_type": "stream",
     "text": [
      "C:\\Users\\User\\AppData\\Local\\conda\\conda\\envs\\UserEnv\\lib\\site-packages\\sklearn\\svm\\base.py:929: ConvergenceWarning: Liblinear failed to converge, increase the number of iterations.\n",
      "  \"the number of iterations.\", ConvergenceWarning)\n"
     ]
    },
    {
     "name": "stdout",
     "output_type": "stream",
     "text": [
      "Train accuracy and test accuracy with Linear SVM for --------New Crime Type_WEAPONS VIOLATION\n",
      "Train Accuracy\n",
      "0.9366899902941568\n",
      "Test Accuracy\n",
      "0.9336589698046182\n",
      "Confusion Matrix\n",
      "[[62334  3555]\n",
      " [  927   744]]\n",
      "Classification Report\n",
      "              precision    recall  f1-score   support\n",
      "\n",
      "           0       0.99      0.95      0.97     65889\n",
      "           1       0.17      0.45      0.25      1671\n",
      "\n",
      "    accuracy                           0.93     67560\n",
      "   macro avg       0.58      0.70      0.61     67560\n",
      "weighted avg       0.97      0.93      0.95     67560\n",
      "\n"
     ]
    }
   ],
   "source": [
    "for crime in Test_crime_3:\n",
    "    Test_crime_3 = ['New Crime Type_BURGLARY','New Crime Type_CRIMINAL TRESPASS',\n",
    "             'New Crime Type_MOTOR VEHICLE THEFT',\n",
    "             'New Crime Type_ROBBERY','New Crime Type_WEAPONS VIOLATION']\n",
    "    print(\"---------------------------------------------------------------------------------\")\n",
    "    print(\"                                   {}                              \".format(crime))\n",
    "    print(\"---------------------------------------------------------------------------------\")\n",
    "    from sklearn.svm import LinearSVC\n",
    "    from sklearn.model_selection import train_test_split\n",
    "    from sklearn.metrics import confusion_matrix, classification_report\n",
    "    from imblearn.over_sampling import SMOTE\n",
    "    sm = SMOTE(random_state=0)\n",
    "    Test_crime_3.remove(crime)\n",
    "    #dummydf_part2 = dummydf_part2.dropna()\n",
    "    dummydf_part2_new = dummydf_part2.drop(Test_crime_3, axis = 1)\n",
    "    X1 = dummydf_part2_new.drop(crime, axis = 1)\n",
    "    X1 = X1.values\n",
    "    Y1 = dummydf_part2_new[crime]\n",
    "    Y1 = Y1.values.reshape(-1,1)\n",
    "    #print(X1.shape)\n",
    "    #print(Y1.shape)\n",
    "    #X1 = X1[0:50000,:]\n",
    "    #Y1 = Y1[0:50000,:]\n",
    "    X_train, X_test, y_train, y_test = train_test_split(X1, Y1, train_size = 0.7, random_state = 0, stratify = Y1)    \n",
    "    X_resampled, y_resampled = sm.fit_sample(X_train, y_train)\n",
    "    \n",
    "    print(\"number of 0 in y_test\")\n",
    "    print(sum(y_test==0))\n",
    "    \n",
    "    print(\"number of 1 in y_test\")\n",
    "    print(sum(y_test==1))\n",
    "    print(\"X_train shape before upsampling\")\n",
    "    print(X_train.shape)\n",
    "    print(\"Y_train shape before upsampling\")\n",
    "    print(y_train.shape)\n",
    "    print(\"Size of X_train after upsampling\")\n",
    "    print(X_resampled.shape)\n",
    "    print(\"Size of Y_train after upsampling\")\n",
    "    print(y_resampled.shape)\n",
    "    \n",
    "    \n",
    "    print(\"Model : Linear SVM\")\n",
    "    lsvc = LinearSVC(penalty = 'l2', C = 1, class_weight={0:0.6, 1:3}, loss = 'squared_hinge')\n",
    "    lsvc.fit(X_resampled, y_resampled)\n",
    "    train_acc = lsvc.score(X_train, y_train)\n",
    "    test_acc = lsvc.score(X_test, y_test)\n",
    "    print(\"Train accuracy and test accuracy with Linear SVM for --------{}\".format(crime))\n",
    "    print(\"Train Accuracy\")\n",
    "    print(train_acc)\n",
    "    print(\"Test Accuracy\")\n",
    "    print(test_acc)\n",
    "    y_pred3 = lsvc.predict(X_test)\n",
    "    confmat3 = confusion_matrix(y_test,y_pred3)\n",
    "    print(\"Confusion Matrix\")\n",
    "    print(confmat3)\n",
    "    clfreport3 = classification_report(y_test,y_pred3)\n",
    "    print(\"Classification Report\")\n",
    "    print(clfreport3)"
   ]
  },
  {
   "cell_type": "markdown",
   "metadata": {},
   "source": [
    "# Model 4: KMeans Clustering"
   ]
  },
  {
   "cell_type": "code",
   "execution_count": 51,
   "metadata": {},
   "outputs": [],
   "source": [
    "Test_crime_2 = ['New Crime Type_BURGLARY','New Crime Type_CRIMINAL TRESPASS',\n",
    "             'New Crime Type_MOTOR VEHICLE THEFT',\n",
    "             'New Crime Type_ROBBERY','New Crime Type_WEAPONS VIOLATION']"
   ]
  },
  {
   "cell_type": "code",
   "execution_count": 52,
   "metadata": {},
   "outputs": [
    {
     "name": "stdout",
     "output_type": "stream",
     "text": [
      "---------------------------------------------------------------------------------\n",
      "                                   New Crime Type_BURGLARY                              \n",
      "---------------------------------------------------------------------------------\n",
      "Model 2: Logistic Regression\n",
      "Confusion Matrix\n",
      "[[14349 50719]\n",
      " [  119  2373]]\n",
      "Classification Report\n",
      "              precision    recall  f1-score   support\n",
      "\n",
      "           0       0.99      0.22      0.36     65068\n",
      "           1       0.04      0.95      0.09      2492\n",
      "\n",
      "    accuracy                           0.25     67560\n",
      "   macro avg       0.52      0.59      0.22     67560\n",
      "weighted avg       0.96      0.25      0.35     67560\n",
      "\n",
      "---------------------------------------------------------------------------------\n",
      "                                   New Crime Type_CRIMINAL TRESPASS                              \n",
      "---------------------------------------------------------------------------------\n",
      "Model 2: Logistic Regression\n",
      "Confusion Matrix\n",
      "[[54430 11294]\n",
      " [ 1745    91]]\n",
      "Classification Report\n",
      "              precision    recall  f1-score   support\n",
      "\n",
      "           0       0.97      0.83      0.89     65724\n",
      "           1       0.01      0.05      0.01      1836\n",
      "\n",
      "    accuracy                           0.81     67560\n",
      "   macro avg       0.49      0.44      0.45     67560\n",
      "weighted avg       0.94      0.81      0.87     67560\n",
      "\n",
      "---------------------------------------------------------------------------------\n",
      "                                   New Crime Type_MOTOR VEHICLE THEFT                              \n",
      "---------------------------------------------------------------------------------\n",
      "Model 2: Logistic Regression\n",
      "Confusion Matrix\n",
      "[[53798 11352]\n",
      " [ 2377    33]]\n",
      "Classification Report\n",
      "              precision    recall  f1-score   support\n",
      "\n",
      "           0       0.96      0.83      0.89     65150\n",
      "           1       0.00      0.01      0.00      2410\n",
      "\n",
      "    accuracy                           0.80     67560\n",
      "   macro avg       0.48      0.42      0.45     67560\n",
      "weighted avg       0.92      0.80      0.86     67560\n",
      "\n",
      "---------------------------------------------------------------------------------\n",
      "                                   New Crime Type_ROBBERY                              \n",
      "---------------------------------------------------------------------------------\n",
      "Model 2: Logistic Regression\n",
      "Confusion Matrix\n",
      "[[14284 51177]\n",
      " [  184  1915]]\n",
      "Classification Report\n",
      "              precision    recall  f1-score   support\n",
      "\n",
      "           0       0.99      0.22      0.36     65461\n",
      "           1       0.04      0.91      0.07      2099\n",
      "\n",
      "    accuracy                           0.24     67560\n",
      "   macro avg       0.51      0.57      0.21     67560\n",
      "weighted avg       0.96      0.24      0.35     67560\n",
      "\n",
      "---------------------------------------------------------------------------------\n",
      "                                   New Crime Type_WEAPONS VIOLATION                              \n",
      "---------------------------------------------------------------------------------\n",
      "Model 2: Logistic Regression\n",
      "Confusion Matrix\n",
      "[[13340 52547]\n",
      " [ 1128   545]]\n",
      "Classification Report\n",
      "              precision    recall  f1-score   support\n",
      "\n",
      "           0       0.92      0.20      0.33     65887\n",
      "           1       0.01      0.33      0.02      1673\n",
      "\n",
      "    accuracy                           0.21     67560\n",
      "   macro avg       0.47      0.26      0.18     67560\n",
      "weighted avg       0.90      0.21      0.32     67560\n",
      "\n"
     ]
    }
   ],
   "source": [
    "for crime in Test_crime_2:\n",
    "    Test_crime_2 = ['New Crime Type_BURGLARY','New Crime Type_CRIMINAL TRESPASS',\n",
    "             'New Crime Type_MOTOR VEHICLE THEFT',\n",
    "             'New Crime Type_ROBBERY','New Crime Type_WEAPONS VIOLATION']\n",
    "    print(\"---------------------------------------------------------------------------------\")\n",
    "    print(\"                                   {}                              \".format(crime))\n",
    "    print(\"---------------------------------------------------------------------------------\")    \n",
    "    from sklearn.model_selection import train_test_split\n",
    "    from sklearn.linear_model import LogisticRegression\n",
    "    from sklearn.metrics import confusion_matrix, classification_report\n",
    "    \n",
    "    \n",
    "    \n",
    "    from imblearn.over_sampling import SMOTE\n",
    "    #from sklearn.svm import LinearSVC\n",
    "    from sklearn.cluster import KMeans\n",
    "    sm = SMOTE(random_state = 0)    \n",
    "    Test_crime_2.remove(crime)\n",
    "    dummydf_part2 = dummydf_part2.dropna()\n",
    "    dummydf_part2_new = dummydf_part2.drop(Test_crime_2, axis = 1)    \n",
    "    X = dummydf_part2_new.drop(crime, axis = 1)\n",
    "    #X1 = np.array(dummydf_part2_new.drop([crime],1))\n",
    "    X = X.values\n",
    "    Y = dummydf_part2_new[crime]\n",
    "    #Y1 = np.array(dummydf_part2_new[crime])\n",
    "    Y = Y.values.reshape(-1,1)\n",
    "    #X = X[0:50000,:]\n",
    "    #Y = Y[0:50000,:]\n",
    "    X_train, X_test, y_train, y_test = train_test_split(X, Y, train_size = 0.7, random_state = 0)    \n",
    "    #X_resampled, y_resampled = sm.fit_sample(X_train, y_train)\n",
    "    print(\"Model 2: Logistic Regression\")\n",
    "    LogReg2 = KMeans(n_clusters = 2)\n",
    "    LogReg2.fit(X_train)\n",
    "    \n",
    "    #train_acc = LogReg2.score(X_train, y_train)\n",
    "    #test_acc = LogReg2.score(X_test, y_test)\n",
    "    #print(\"Train accuracy and test accuracy with Logistic Regression for --------{}\".format(crime))\n",
    "    #print(\"Train Accuracy\")\n",
    "    #print(train_acc)\n",
    "    #print(\"Test Accuracy\")\n",
    "    #print(test_acc)\n",
    "    y_pred2 = LogReg2.predict(X_test)\n",
    "    confmat2 = confusion_matrix(y_test, y_pred2)\n",
    "    print(\"Confusion Matrix\")\n",
    "    print(confmat2)\n",
    "    clfreport2 = classification_report(y_test, y_pred2)\n",
    "    print(\"Classification Report\")\n",
    "    print(clfreport2)"
   ]
  },
  {
   "cell_type": "markdown",
   "metadata": {},
   "source": [
    "# LinearSVC with different parameters"
   ]
  },
  {
   "cell_type": "code",
   "execution_count": 158,
   "metadata": {},
   "outputs": [],
   "source": [
    "Test_crime_3 = ['New Crime Type_BURGLARY','New Crime Type_CRIMINAL TRESPASS',\n",
    "             'New Crime Type_MOTOR VEHICLE THEFT',\n",
    "             'New Crime Type_ROBBERY','New Crime Type_WEAPONS VIOLATION']"
   ]
  },
  {
   "cell_type": "code",
   "execution_count": 159,
   "metadata": {},
   "outputs": [
    {
     "name": "stdout",
     "output_type": "stream",
     "text": [
      "---------------------------------------------------------------------------------\n",
      "                                   New Crime Type_BURGLARY                              \n",
      "---------------------------------------------------------------------------------\n"
     ]
    },
    {
     "name": "stderr",
     "output_type": "stream",
     "text": [
      "C:\\Users\\User\\AppData\\Local\\conda\\conda\\envs\\UserEnv\\lib\\site-packages\\sklearn\\utils\\validation.py:724: DataConversionWarning: A column-vector y was passed when a 1d array was expected. Please change the shape of y to (n_samples, ), for example using ravel().\n",
      "  y = column_or_1d(y, warn=True)\n"
     ]
    },
    {
     "name": "stdout",
     "output_type": "stream",
     "text": [
      "number of 0 in y_test\n",
      "[65051]\n",
      "number of 1 in y_test\n",
      "[2509]\n",
      "X_train shape before upsampling\n",
      "(157637, 247)\n",
      "Y_train shape before upsampling\n",
      "(157637, 1)\n",
      "Size of X_train after upsampling\n",
      "(303564, 247)\n",
      "Size of Y_train after upsampling\n",
      "(303564,)\n",
      "Model : Linear SVM\n"
     ]
    },
    {
     "name": "stderr",
     "output_type": "stream",
     "text": [
      "C:\\Users\\User\\AppData\\Local\\conda\\conda\\envs\\UserEnv\\lib\\site-packages\\sklearn\\svm\\base.py:929: ConvergenceWarning: Liblinear failed to converge, increase the number of iterations.\n",
      "  \"the number of iterations.\", ConvergenceWarning)\n"
     ]
    },
    {
     "name": "stdout",
     "output_type": "stream",
     "text": [
      "Train accuracy and test accuracy with Linear SVM for --------New Crime Type_BURGLARY\n",
      "Train Accuracy\n",
      "0.9005690288447509\n",
      "Test Accuracy\n",
      "0.8971432800473653\n",
      "Confusion Matrix\n",
      "[[59124  5927]\n",
      " [ 1022  1487]]\n",
      "Classification Report\n",
      "              precision    recall  f1-score   support\n",
      "\n",
      "           0       0.98      0.91      0.94     65051\n",
      "           1       0.20      0.59      0.30      2509\n",
      "\n",
      "    accuracy                           0.90     67560\n",
      "   macro avg       0.59      0.75      0.62     67560\n",
      "weighted avg       0.95      0.90      0.92     67560\n",
      "\n",
      "---------------------------------------------------------------------------------\n",
      "                                   New Crime Type_CRIMINAL TRESPASS                              \n",
      "---------------------------------------------------------------------------------\n"
     ]
    },
    {
     "name": "stderr",
     "output_type": "stream",
     "text": [
      "C:\\Users\\User\\AppData\\Local\\conda\\conda\\envs\\UserEnv\\lib\\site-packages\\sklearn\\utils\\validation.py:724: DataConversionWarning: A column-vector y was passed when a 1d array was expected. Please change the shape of y to (n_samples, ), for example using ravel().\n",
      "  y = column_or_1d(y, warn=True)\n"
     ]
    },
    {
     "name": "stdout",
     "output_type": "stream",
     "text": [
      "number of 0 in y_test\n",
      "[65743]\n",
      "number of 1 in y_test\n",
      "[1817]\n",
      "X_train shape before upsampling\n",
      "(157637, 247)\n",
      "Y_train shape before upsampling\n",
      "(157637, 1)\n",
      "Size of X_train after upsampling\n",
      "(306796, 247)\n",
      "Size of Y_train after upsampling\n",
      "(306796,)\n",
      "Model : Linear SVM\n"
     ]
    },
    {
     "name": "stderr",
     "output_type": "stream",
     "text": [
      "C:\\Users\\User\\AppData\\Local\\conda\\conda\\envs\\UserEnv\\lib\\site-packages\\sklearn\\svm\\base.py:929: ConvergenceWarning: Liblinear failed to converge, increase the number of iterations.\n",
      "  \"the number of iterations.\", ConvergenceWarning)\n"
     ]
    },
    {
     "name": "stdout",
     "output_type": "stream",
     "text": [
      "Train accuracy and test accuracy with Linear SVM for --------New Crime Type_CRIMINAL TRESPASS\n",
      "Train Accuracy\n",
      "0.9592481460570805\n",
      "Test Accuracy\n",
      "0.9578152753108348\n",
      "Confusion Matrix\n",
      "[[64287  1456]\n",
      " [ 1394   423]]\n",
      "Classification Report\n",
      "              precision    recall  f1-score   support\n",
      "\n",
      "           0       0.98      0.98      0.98     65743\n",
      "           1       0.23      0.23      0.23      1817\n",
      "\n",
      "    accuracy                           0.96     67560\n",
      "   macro avg       0.60      0.61      0.60     67560\n",
      "weighted avg       0.96      0.96      0.96     67560\n",
      "\n",
      "---------------------------------------------------------------------------------\n",
      "                                   New Crime Type_MOTOR VEHICLE THEFT                              \n",
      "---------------------------------------------------------------------------------\n"
     ]
    },
    {
     "name": "stderr",
     "output_type": "stream",
     "text": [
      "C:\\Users\\User\\AppData\\Local\\conda\\conda\\envs\\UserEnv\\lib\\site-packages\\sklearn\\utils\\validation.py:724: DataConversionWarning: A column-vector y was passed when a 1d array was expected. Please change the shape of y to (n_samples, ), for example using ravel().\n",
      "  y = column_or_1d(y, warn=True)\n"
     ]
    },
    {
     "name": "stdout",
     "output_type": "stream",
     "text": [
      "number of 0 in y_test\n",
      "[65199]\n",
      "number of 1 in y_test\n",
      "[2361]\n",
      "X_train shape before upsampling\n",
      "(157637, 247)\n",
      "Y_train shape before upsampling\n",
      "(157637, 1)\n",
      "Size of X_train after upsampling\n",
      "(304258, 247)\n",
      "Size of Y_train after upsampling\n",
      "(304258,)\n",
      "Model : Linear SVM\n"
     ]
    },
    {
     "name": "stderr",
     "output_type": "stream",
     "text": [
      "C:\\Users\\User\\AppData\\Local\\conda\\conda\\envs\\UserEnv\\lib\\site-packages\\sklearn\\svm\\base.py:929: ConvergenceWarning: Liblinear failed to converge, increase the number of iterations.\n",
      "  \"the number of iterations.\", ConvergenceWarning)\n"
     ]
    },
    {
     "name": "stdout",
     "output_type": "stream",
     "text": [
      "Train accuracy and test accuracy with Linear SVM for --------New Crime Type_MOTOR VEHICLE THEFT\n",
      "Train Accuracy\n",
      "0.8593350545874382\n",
      "Test Accuracy\n",
      "0.8589105979869746\n",
      "Confusion Matrix\n",
      "[[56356  8843]\n",
      " [  689  1672]]\n",
      "Classification Report\n",
      "              precision    recall  f1-score   support\n",
      "\n",
      "           0       0.99      0.86      0.92     65199\n",
      "           1       0.16      0.71      0.26      2361\n",
      "\n",
      "    accuracy                           0.86     67560\n",
      "   macro avg       0.57      0.79      0.59     67560\n",
      "weighted avg       0.96      0.86      0.90     67560\n",
      "\n",
      "---------------------------------------------------------------------------------\n",
      "                                   New Crime Type_ROBBERY                              \n",
      "---------------------------------------------------------------------------------\n"
     ]
    },
    {
     "name": "stderr",
     "output_type": "stream",
     "text": [
      "C:\\Users\\User\\AppData\\Local\\conda\\conda\\envs\\UserEnv\\lib\\site-packages\\sklearn\\utils\\validation.py:724: DataConversionWarning: A column-vector y was passed when a 1d array was expected. Please change the shape of y to (n_samples, ), for example using ravel().\n",
      "  y = column_or_1d(y, warn=True)\n"
     ]
    },
    {
     "name": "stdout",
     "output_type": "stream",
     "text": [
      "number of 0 in y_test\n",
      "[65482]\n",
      "number of 1 in y_test\n",
      "[2078]\n",
      "X_train shape before upsampling\n",
      "(157637, 247)\n",
      "Y_train shape before upsampling\n",
      "(157637, 1)\n",
      "Size of X_train after upsampling\n",
      "(305578, 247)\n",
      "Size of Y_train after upsampling\n",
      "(305578,)\n",
      "Model : Linear SVM\n"
     ]
    },
    {
     "name": "stderr",
     "output_type": "stream",
     "text": [
      "C:\\Users\\User\\AppData\\Local\\conda\\conda\\envs\\UserEnv\\lib\\site-packages\\sklearn\\svm\\base.py:929: ConvergenceWarning: Liblinear failed to converge, increase the number of iterations.\n",
      "  \"the number of iterations.\", ConvergenceWarning)\n"
     ]
    },
    {
     "name": "stdout",
     "output_type": "stream",
     "text": [
      "Train accuracy and test accuracy with Linear SVM for --------New Crime Type_ROBBERY\n",
      "Train Accuracy\n",
      "0.9410290731236955\n",
      "Test Accuracy\n",
      "0.9421403197158081\n",
      "Confusion Matrix\n",
      "[[62959  2523]\n",
      " [ 1386   692]]\n",
      "Classification Report\n",
      "              precision    recall  f1-score   support\n",
      "\n",
      "           0       0.98      0.96      0.97     65482\n",
      "           1       0.22      0.33      0.26      2078\n",
      "\n",
      "    accuracy                           0.94     67560\n",
      "   macro avg       0.60      0.65      0.62     67560\n",
      "weighted avg       0.95      0.94      0.95     67560\n",
      "\n",
      "---------------------------------------------------------------------------------\n",
      "                                   New Crime Type_WEAPONS VIOLATION                              \n",
      "---------------------------------------------------------------------------------\n"
     ]
    },
    {
     "name": "stderr",
     "output_type": "stream",
     "text": [
      "C:\\Users\\User\\AppData\\Local\\conda\\conda\\envs\\UserEnv\\lib\\site-packages\\sklearn\\utils\\validation.py:724: DataConversionWarning: A column-vector y was passed when a 1d array was expected. Please change the shape of y to (n_samples, ), for example using ravel().\n",
      "  y = column_or_1d(y, warn=True)\n"
     ]
    },
    {
     "name": "stdout",
     "output_type": "stream",
     "text": [
      "number of 0 in y_test\n",
      "[65889]\n",
      "number of 1 in y_test\n",
      "[1671]\n",
      "X_train shape before upsampling\n",
      "(157637, 247)\n",
      "Y_train shape before upsampling\n",
      "(157637, 1)\n",
      "Size of X_train after upsampling\n",
      "(307478, 247)\n",
      "Size of Y_train after upsampling\n",
      "(307478,)\n",
      "Model : Linear SVM\n"
     ]
    },
    {
     "name": "stderr",
     "output_type": "stream",
     "text": [
      "C:\\Users\\User\\AppData\\Local\\conda\\conda\\envs\\UserEnv\\lib\\site-packages\\sklearn\\svm\\base.py:929: ConvergenceWarning: Liblinear failed to converge, increase the number of iterations.\n",
      "  \"the number of iterations.\", ConvergenceWarning)\n"
     ]
    },
    {
     "name": "stdout",
     "output_type": "stream",
     "text": [
      "Train accuracy and test accuracy with Linear SVM for --------New Crime Type_WEAPONS VIOLATION\n",
      "Train Accuracy\n",
      "0.9307649853777984\n",
      "Test Accuracy\n",
      "0.9275014801657786\n",
      "Confusion Matrix\n",
      "[[61855  4034]\n",
      " [  864   807]]\n",
      "Classification Report\n",
      "              precision    recall  f1-score   support\n",
      "\n",
      "           0       0.99      0.94      0.96     65889\n",
      "           1       0.17      0.48      0.25      1671\n",
      "\n",
      "    accuracy                           0.93     67560\n",
      "   macro avg       0.58      0.71      0.60     67560\n",
      "weighted avg       0.97      0.93      0.94     67560\n",
      "\n"
     ]
    }
   ],
   "source": [
    "for crime in Test_crime_3:\n",
    "    Test_crime_3 = ['New Crime Type_BURGLARY','New Crime Type_CRIMINAL TRESPASS',\n",
    "             'New Crime Type_MOTOR VEHICLE THEFT',\n",
    "             'New Crime Type_ROBBERY','New Crime Type_WEAPONS VIOLATION']\n",
    "    print(\"---------------------------------------------------------------------------------\")\n",
    "    print(\"                                   {}                              \".format(crime))\n",
    "    print(\"---------------------------------------------------------------------------------\")\n",
    "    from sklearn.svm import LinearSVC\n",
    "    from sklearn.model_selection import train_test_split\n",
    "    from sklearn.metrics import confusion_matrix, classification_report\n",
    "    from imblearn.over_sampling import SMOTE\n",
    "    sm = SMOTE(kind = 'borderline1',random_state=0)\n",
    "    Test_crime_3.remove(crime)\n",
    "    #dummydf_part2 = dummydf_part2.dropna()\n",
    "    dummydf_part2_new = dummydf_part2.drop(Test_crime_3, axis = 1)\n",
    "    X1 = dummydf_part2_new.drop(crime, axis = 1)\n",
    "    X1 = X1.values\n",
    "    Y1 = dummydf_part2_new[crime]\n",
    "    Y1 = Y1.values.reshape(-1,1)\n",
    "    #print(X1.shape)\n",
    "    #print(Y1.shape)\n",
    "    #X1 = X1[0:50000,:]\n",
    "    #Y1 = Y1[0:50000,:]\n",
    "    X_train, X_test, y_train, y_test = train_test_split(X1, Y1, train_size = 0.7, random_state = 0, stratify = Y1)    \n",
    "    X_resampled, y_resampled = sm.fit_sample(X_train, y_train)\n",
    "    \n",
    "    print(\"number of 0 in y_test\")\n",
    "    print(sum(y_test==0))\n",
    "    \n",
    "    print(\"number of 1 in y_test\")\n",
    "    print(sum(y_test==1))\n",
    "    print(\"X_train shape before upsampling\")\n",
    "    print(X_train.shape)\n",
    "    print(\"Y_train shape before upsampling\")\n",
    "    print(y_train.shape)\n",
    "    print(\"Size of X_train after upsampling\")\n",
    "    print(X_resampled.shape)\n",
    "    print(\"Size of Y_train after upsampling\")\n",
    "    print(y_resampled.shape)\n",
    "    \n",
    "    \n",
    "    print(\"Model : Linear SVM\")\n",
    "    lsvc = LinearSVC(penalty = 'l2', C = 1, class_weight={0:0.6, 1:3}, loss = 'squared_hinge')\n",
    "    lsvc.fit(X_resampled, y_resampled)\n",
    "    train_acc = lsvc.score(X_train, y_train)\n",
    "    test_acc = lsvc.score(X_test, y_test)\n",
    "    print(\"Train accuracy and test accuracy with Linear SVM for --------{}\".format(crime))\n",
    "    print(\"Train Accuracy\")\n",
    "    print(train_acc)\n",
    "    print(\"Test Accuracy\")\n",
    "    print(test_acc)\n",
    "    y_pred3 = lsvc.predict(X_test)\n",
    "    confmat3 = confusion_matrix(y_test,y_pred3)\n",
    "    print(\"Confusion Matrix\")\n",
    "    print(confmat3)\n",
    "    clfreport3 = classification_report(y_test,y_pred3)\n",
    "    print(\"Classification Report\")\n",
    "    print(clfreport3)"
   ]
  },
  {
   "cell_type": "markdown",
   "metadata": {},
   "source": [
    "# Conclision"
   ]
  },
  {
   "cell_type": "markdown",
   "metadata": {},
   "source": [
    "Final the notable points from this project is that:\n",
    "    1) We have worked with Unbalanced dataset and implemented upsampling.\n",
    "    2) We implemented an extensive use of Pandas library.\n",
    "    3) We implemented supervised learning as well as unsupervised learning.\n",
    "    4) from our observation we saw that, upsampling as well as proper class weight setting works better for rare class classification."
   ]
  },
  {
   "cell_type": "code",
   "execution_count": null,
   "metadata": {},
   "outputs": [],
   "source": []
  }
 ],
 "metadata": {
  "kernelspec": {
   "display_name": "Python 3",
   "language": "python",
   "name": "python3"
  },
  "language_info": {
   "codemirror_mode": {
    "name": "ipython",
    "version": 3
   },
   "file_extension": ".py",
   "mimetype": "text/x-python",
   "name": "python",
   "nbconvert_exporter": "python",
   "pygments_lexer": "ipython3",
   "version": "3.7.4"
  }
 },
 "nbformat": 4,
 "nbformat_minor": 2
}
